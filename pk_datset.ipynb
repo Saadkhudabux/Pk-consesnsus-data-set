{
 "cells": [
  {
   "cell_type": "code",
   "execution_count": 1,
   "metadata": {},
   "outputs": [],
   "source": [
    "import numpy as np\n",
    "import pandas as pd\n",
    "import seaborn as sns\n",
    "import matplotlib as mlt"
   ]
  },
  {
   "cell_type": "code",
   "execution_count": 2,
   "metadata": {},
   "outputs": [
    {
     "data": {
      "text/html": [
       "<div>\n",
       "<style scoped>\n",
       "    .dataframe tbody tr th:only-of-type {\n",
       "        vertical-align: middle;\n",
       "    }\n",
       "\n",
       "    .dataframe tbody tr th {\n",
       "        vertical-align: top;\n",
       "    }\n",
       "\n",
       "    .dataframe thead th {\n",
       "        text-align: right;\n",
       "    }\n",
       "</style>\n",
       "<table border=\"1\" class=\"dataframe\">\n",
       "  <thead>\n",
       "    <tr style=\"text-align: right;\">\n",
       "      <th></th>\n",
       "      <th>area</th>\n",
       "      <th>households</th>\n",
       "      <th>male</th>\n",
       "      <th>female</th>\n",
       "      <th>transgender</th>\n",
       "      <th>all genders</th>\n",
       "      <th>population 1998</th>\n",
       "      <th>sex ratio</th>\n",
       "      <th>average annual growth rate</th>\n",
       "    </tr>\n",
       "  </thead>\n",
       "  <tbody>\n",
       "    <tr>\n",
       "      <th>0</th>\n",
       "      <td>PAKISTAN *</td>\n",
       "      <td>32205111</td>\n",
       "      <td>106449322</td>\n",
       "      <td>101314780</td>\n",
       "      <td>10418</td>\n",
       "      <td>207774520</td>\n",
       "      <td>132352279</td>\n",
       "      <td>105.07</td>\n",
       "      <td>2.40</td>\n",
       "    </tr>\n",
       "    <tr>\n",
       "      <th>1</th>\n",
       "      <td>KHYBER PAKHTUNKHWA</td>\n",
       "      <td>3845168</td>\n",
       "      <td>15467645</td>\n",
       "      <td>15054813</td>\n",
       "      <td>913</td>\n",
       "      <td>30523371</td>\n",
       "      <td>17743645</td>\n",
       "      <td>102.74</td>\n",
       "      <td>2.89</td>\n",
       "    </tr>\n",
       "    <tr>\n",
       "      <th>2</th>\n",
       "      <td>FATA</td>\n",
       "      <td>558379</td>\n",
       "      <td>2556292</td>\n",
       "      <td>2445357</td>\n",
       "      <td>27</td>\n",
       "      <td>5001676</td>\n",
       "      <td>3176331</td>\n",
       "      <td>104.54</td>\n",
       "      <td>2.41</td>\n",
       "    </tr>\n",
       "    <tr>\n",
       "      <th>3</th>\n",
       "      <td>PUNJAB</td>\n",
       "      <td>17103835</td>\n",
       "      <td>55958974</td>\n",
       "      <td>54046759</td>\n",
       "      <td>6709</td>\n",
       "      <td>110012442</td>\n",
       "      <td>73621290</td>\n",
       "      <td>103.54</td>\n",
       "      <td>2.13</td>\n",
       "    </tr>\n",
       "    <tr>\n",
       "      <th>4</th>\n",
       "      <td>SINDH</td>\n",
       "      <td>8585610</td>\n",
       "      <td>24927046</td>\n",
       "      <td>22956478</td>\n",
       "      <td>2527</td>\n",
       "      <td>47886051</td>\n",
       "      <td>30439893</td>\n",
       "      <td>108.58</td>\n",
       "      <td>2.41</td>\n",
       "    </tr>\n",
       "    <tr>\n",
       "      <th>...</th>\n",
       "      <td>...</td>\n",
       "      <td>...</td>\n",
       "      <td>...</td>\n",
       "      <td>...</td>\n",
       "      <td>...</td>\n",
       "      <td>...</td>\n",
       "      <td>...</td>\n",
       "      <td>...</td>\n",
       "      <td>...</td>\n",
       "    </tr>\n",
       "    <tr>\n",
       "      <th>164</th>\n",
       "      <td>KILLA SAIFULLAH DISTRICT</td>\n",
       "      <td>53478</td>\n",
       "      <td>181870</td>\n",
       "      <td>160944</td>\n",
       "      <td>0</td>\n",
       "      <td>342814</td>\n",
       "      <td>193553</td>\n",
       "      <td>113.00</td>\n",
       "      <td>3.05</td>\n",
       "    </tr>\n",
       "    <tr>\n",
       "      <th>165</th>\n",
       "      <td>LORALAI DISTRICT</td>\n",
       "      <td>55876</td>\n",
       "      <td>212451</td>\n",
       "      <td>184948</td>\n",
       "      <td>1</td>\n",
       "      <td>397400</td>\n",
       "      <td>250147</td>\n",
       "      <td>114.87</td>\n",
       "      <td>2.46</td>\n",
       "    </tr>\n",
       "    <tr>\n",
       "      <th>166</th>\n",
       "      <td>MUSAKHEL DISTRICT</td>\n",
       "      <td>24826</td>\n",
       "      <td>90240</td>\n",
       "      <td>76777</td>\n",
       "      <td>0</td>\n",
       "      <td>167017</td>\n",
       "      <td>134056</td>\n",
       "      <td>117.54</td>\n",
       "      <td>1.16</td>\n",
       "    </tr>\n",
       "    <tr>\n",
       "      <th>167</th>\n",
       "      <td>SHERANI DISTRICT</td>\n",
       "      <td>21213</td>\n",
       "      <td>84994</td>\n",
       "      <td>68115</td>\n",
       "      <td>7</td>\n",
       "      <td>153116</td>\n",
       "      <td>81684</td>\n",
       "      <td>124.78</td>\n",
       "      <td>3.35</td>\n",
       "    </tr>\n",
       "    <tr>\n",
       "      <th>168</th>\n",
       "      <td>ZHOB DISTRICT</td>\n",
       "      <td>45962</td>\n",
       "      <td>168358</td>\n",
       "      <td>142186</td>\n",
       "      <td>0</td>\n",
       "      <td>310544</td>\n",
       "      <td>193458</td>\n",
       "      <td>118.41</td>\n",
       "      <td>2.52</td>\n",
       "    </tr>\n",
       "  </tbody>\n",
       "</table>\n",
       "<p>169 rows × 9 columns</p>\n",
       "</div>"
      ],
      "text/plain": [
       "                         area  households       male     female  transgender  \\\n",
       "0                  PAKISTAN *    32205111  106449322  101314780        10418   \n",
       "1          KHYBER PAKHTUNKHWA     3845168   15467645   15054813          913   \n",
       "2                        FATA      558379    2556292    2445357           27   \n",
       "3                      PUNJAB    17103835   55958974   54046759         6709   \n",
       "4                       SINDH     8585610   24927046   22956478         2527   \n",
       "..                        ...         ...        ...        ...          ...   \n",
       "164  KILLA SAIFULLAH DISTRICT       53478     181870     160944            0   \n",
       "165          LORALAI DISTRICT       55876     212451     184948            1   \n",
       "166         MUSAKHEL DISTRICT       24826      90240      76777            0   \n",
       "167          SHERANI DISTRICT       21213      84994      68115            7   \n",
       "168             ZHOB DISTRICT       45962     168358     142186            0   \n",
       "\n",
       "     all genders  population 1998  sex ratio  average annual growth rate  \n",
       "0      207774520        132352279     105.07                        2.40  \n",
       "1       30523371         17743645     102.74                        2.89  \n",
       "2        5001676          3176331     104.54                        2.41  \n",
       "3      110012442         73621290     103.54                        2.13  \n",
       "4       47886051         30439893     108.58                        2.41  \n",
       "..           ...              ...        ...                         ...  \n",
       "164       342814           193553     113.00                        3.05  \n",
       "165       397400           250147     114.87                        2.46  \n",
       "166       167017           134056     117.54                        1.16  \n",
       "167       153116            81684     124.78                        3.35  \n",
       "168       310544           193458     118.41                        2.52  \n",
       "\n",
       "[169 rows x 9 columns]"
      ]
     },
     "execution_count": 2,
     "metadata": {},
     "output_type": "execute_result"
    }
   ],
   "source": [
    "import pandas as pd\n",
    "data = pd.read_csv(\"ires.csv\")\n",
    "data"
   ]
  },
  {
   "cell_type": "code",
   "execution_count": 3,
   "metadata": {},
   "outputs": [
    {
     "data": {
      "text/html": [
       "<div>\n",
       "<style scoped>\n",
       "    .dataframe tbody tr th:only-of-type {\n",
       "        vertical-align: middle;\n",
       "    }\n",
       "\n",
       "    .dataframe tbody tr th {\n",
       "        vertical-align: top;\n",
       "    }\n",
       "\n",
       "    .dataframe thead th {\n",
       "        text-align: right;\n",
       "    }\n",
       "</style>\n",
       "<table border=\"1\" class=\"dataframe\">\n",
       "  <thead>\n",
       "    <tr style=\"text-align: right;\">\n",
       "      <th></th>\n",
       "      <th>households</th>\n",
       "      <th>male</th>\n",
       "      <th>female</th>\n",
       "      <th>transgender</th>\n",
       "      <th>all genders</th>\n",
       "      <th>population 1998</th>\n",
       "      <th>sex ratio</th>\n",
       "      <th>average annual growth rate</th>\n",
       "    </tr>\n",
       "  </thead>\n",
       "  <tbody>\n",
       "    <tr>\n",
       "      <th>count</th>\n",
       "      <td>1.690000e+02</td>\n",
       "      <td>1.690000e+02</td>\n",
       "      <td>1.690000e+02</td>\n",
       "      <td>169.000000</td>\n",
       "      <td>1.690000e+02</td>\n",
       "      <td>1.690000e+02</td>\n",
       "      <td>169.000000</td>\n",
       "      <td>169.000000</td>\n",
       "    </tr>\n",
       "    <tr>\n",
       "      <th>mean</th>\n",
       "      <td>7.548121e+05</td>\n",
       "      <td>2.491381e+06</td>\n",
       "      <td>2.371758e+06</td>\n",
       "      <td>244.810651</td>\n",
       "      <td>4.863384e+06</td>\n",
       "      <td>3.103240e+06</td>\n",
       "      <td>105.861243</td>\n",
       "      <td>2.500473</td>\n",
       "    </tr>\n",
       "    <tr>\n",
       "      <th>std</th>\n",
       "      <td>2.881756e+06</td>\n",
       "      <td>9.467108e+06</td>\n",
       "      <td>9.027905e+06</td>\n",
       "      <td>985.385729</td>\n",
       "      <td>1.849560e+07</td>\n",
       "      <td>1.189547e+07</td>\n",
       "      <td>5.307864</td>\n",
       "      <td>0.885385</td>\n",
       "    </tr>\n",
       "    <tr>\n",
       "      <th>min</th>\n",
       "      <td>3.348000e+03</td>\n",
       "      <td>1.361200e+04</td>\n",
       "      <td>1.274700e+04</td>\n",
       "      <td>0.000000</td>\n",
       "      <td>2.635900e+04</td>\n",
       "      <td>6.987000e+03</td>\n",
       "      <td>92.690000</td>\n",
       "      <td>0.150000</td>\n",
       "    </tr>\n",
       "    <tr>\n",
       "      <th>25%</th>\n",
       "      <td>8.969500e+04</td>\n",
       "      <td>3.500100e+05</td>\n",
       "      <td>3.272020e+05</td>\n",
       "      <td>5.000000</td>\n",
       "      <td>6.791850e+05</td>\n",
       "      <td>4.132040e+05</td>\n",
       "      <td>102.960000</td>\n",
       "      <td>1.940000</td>\n",
       "    </tr>\n",
       "    <tr>\n",
       "      <th>50%</th>\n",
       "      <td>2.316640e+05</td>\n",
       "      <td>7.817220e+05</td>\n",
       "      <td>7.672660e+05</td>\n",
       "      <td>41.000000</td>\n",
       "      <td>1.546094e+06</td>\n",
       "      <td>9.687970e+05</td>\n",
       "      <td>106.040000</td>\n",
       "      <td>2.440000</td>\n",
       "    </tr>\n",
       "    <tr>\n",
       "      <th>75%</th>\n",
       "      <td>4.898430e+05</td>\n",
       "      <td>1.528019e+06</td>\n",
       "      <td>1.437171e+06</td>\n",
       "      <td>144.000000</td>\n",
       "      <td>2.971626e+06</td>\n",
       "      <td>2.061447e+06</td>\n",
       "      <td>108.580000</td>\n",
       "      <td>2.960000</td>\n",
       "    </tr>\n",
       "    <tr>\n",
       "      <th>max</th>\n",
       "      <td>3.220511e+07</td>\n",
       "      <td>1.064493e+08</td>\n",
       "      <td>1.013148e+08</td>\n",
       "      <td>10418.000000</td>\n",
       "      <td>2.077745e+08</td>\n",
       "      <td>1.323523e+08</td>\n",
       "      <td>124.780000</td>\n",
       "      <td>7.220000</td>\n",
       "    </tr>\n",
       "  </tbody>\n",
       "</table>\n",
       "</div>"
      ],
      "text/plain": [
       "         households          male        female   transgender   all genders  \\\n",
       "count  1.690000e+02  1.690000e+02  1.690000e+02    169.000000  1.690000e+02   \n",
       "mean   7.548121e+05  2.491381e+06  2.371758e+06    244.810651  4.863384e+06   \n",
       "std    2.881756e+06  9.467108e+06  9.027905e+06    985.385729  1.849560e+07   \n",
       "min    3.348000e+03  1.361200e+04  1.274700e+04      0.000000  2.635900e+04   \n",
       "25%    8.969500e+04  3.500100e+05  3.272020e+05      5.000000  6.791850e+05   \n",
       "50%    2.316640e+05  7.817220e+05  7.672660e+05     41.000000  1.546094e+06   \n",
       "75%    4.898430e+05  1.528019e+06  1.437171e+06    144.000000  2.971626e+06   \n",
       "max    3.220511e+07  1.064493e+08  1.013148e+08  10418.000000  2.077745e+08   \n",
       "\n",
       "       population 1998   sex ratio  average annual growth rate  \n",
       "count     1.690000e+02  169.000000                  169.000000  \n",
       "mean      3.103240e+06  105.861243                    2.500473  \n",
       "std       1.189547e+07    5.307864                    0.885385  \n",
       "min       6.987000e+03   92.690000                    0.150000  \n",
       "25%       4.132040e+05  102.960000                    1.940000  \n",
       "50%       9.687970e+05  106.040000                    2.440000  \n",
       "75%       2.061447e+06  108.580000                    2.960000  \n",
       "max       1.323523e+08  124.780000                    7.220000  "
      ]
     },
     "execution_count": 3,
     "metadata": {},
     "output_type": "execute_result"
    }
   ],
   "source": [
    "data.describe().head(11)"
   ]
  },
  {
   "cell_type": "code",
   "execution_count": 4,
   "metadata": {},
   "outputs": [
    {
     "name": "stderr",
     "output_type": "stream",
     "text": [
      "C:\\Users\\hp\\AppData\\Local\\Temp\\ipykernel_5044\\531903386.py:1: FutureWarning: The default value of numeric_only in DataFrame.mean is deprecated. In a future version, it will default to False. In addition, specifying 'numeric_only=None' is deprecated. Select only valid columns or specify the value of numeric_only to silence this warning.\n",
      "  data.mean()\n"
     ]
    },
    {
     "data": {
      "text/plain": [
       "households                    7.548121e+05\n",
       "male                          2.491381e+06\n",
       "female                        2.371758e+06\n",
       "transgender                   2.448107e+02\n",
       "all genders                   4.863384e+06\n",
       "population 1998               3.103240e+06\n",
       "sex ratio                     1.058612e+02\n",
       "average annual growth rate    2.500473e+00\n",
       "dtype: float64"
      ]
     },
     "execution_count": 4,
     "metadata": {},
     "output_type": "execute_result"
    }
   ],
   "source": [
    "data.mean()"
   ]
  },
  {
   "cell_type": "code",
   "execution_count": 5,
   "metadata": {},
   "outputs": [
    {
     "name": "stderr",
     "output_type": "stream",
     "text": [
      "C:\\Users\\hp\\AppData\\Local\\Temp\\ipykernel_5044\\641216423.py:1: FutureWarning: The default value of numeric_only in DataFrameGroupBy.mean is deprecated. In a future version, numeric_only will default to False. Either specify numeric_only or select only columns which should be valid for the function.\n",
      "  data.groupby(\"male\").mean()\n"
     ]
    },
    {
     "data": {
      "text/html": [
       "<div>\n",
       "<style scoped>\n",
       "    .dataframe tbody tr th:only-of-type {\n",
       "        vertical-align: middle;\n",
       "    }\n",
       "\n",
       "    .dataframe tbody tr th {\n",
       "        vertical-align: top;\n",
       "    }\n",
       "\n",
       "    .dataframe thead th {\n",
       "        text-align: right;\n",
       "    }\n",
       "</style>\n",
       "<table border=\"1\" class=\"dataframe\">\n",
       "  <thead>\n",
       "    <tr style=\"text-align: right;\">\n",
       "      <th></th>\n",
       "      <th>households</th>\n",
       "      <th>female</th>\n",
       "      <th>transgender</th>\n",
       "      <th>all genders</th>\n",
       "      <th>population 1998</th>\n",
       "      <th>sex ratio</th>\n",
       "      <th>average annual growth rate</th>\n",
       "    </tr>\n",
       "    <tr>\n",
       "      <th>male</th>\n",
       "      <th></th>\n",
       "      <th></th>\n",
       "      <th></th>\n",
       "      <th></th>\n",
       "      <th></th>\n",
       "      <th></th>\n",
       "      <th></th>\n",
       "    </tr>\n",
       "  </thead>\n",
       "  <tbody>\n",
       "    <tr>\n",
       "      <th>13612</th>\n",
       "      <td>3348.0</td>\n",
       "      <td>12747.0</td>\n",
       "      <td>0.0</td>\n",
       "      <td>26359.0</td>\n",
       "      <td>6987.0</td>\n",
       "      <td>106.79</td>\n",
       "      <td>7.22</td>\n",
       "    </tr>\n",
       "    <tr>\n",
       "      <th>18785</th>\n",
       "      <td>4165.0</td>\n",
       "      <td>17604.0</td>\n",
       "      <td>0.0</td>\n",
       "      <td>36389.0</td>\n",
       "      <td>27216.0</td>\n",
       "      <td>106.71</td>\n",
       "      <td>1.54</td>\n",
       "    </tr>\n",
       "    <tr>\n",
       "      <th>22298</th>\n",
       "      <td>4188.0</td>\n",
       "      <td>20816.0</td>\n",
       "      <td>0.0</td>\n",
       "      <td>43114.0</td>\n",
       "      <td>19593.0</td>\n",
       "      <td>107.12</td>\n",
       "      <td>4.23</td>\n",
       "    </tr>\n",
       "    <tr>\n",
       "      <th>31563</th>\n",
       "      <td>7065.0</td>\n",
       "      <td>33128.0</td>\n",
       "      <td>0.0</td>\n",
       "      <td>64691.0</td>\n",
       "      <td>53841.0</td>\n",
       "      <td>95.28</td>\n",
       "      <td>0.97</td>\n",
       "    </tr>\n",
       "    <tr>\n",
       "      <th>35361</th>\n",
       "      <td>6924.0</td>\n",
       "      <td>33195.0</td>\n",
       "      <td>0.0</td>\n",
       "      <td>68556.0</td>\n",
       "      <td>38990.0</td>\n",
       "      <td>106.53</td>\n",
       "      <td>3.01</td>\n",
       "    </tr>\n",
       "    <tr>\n",
       "      <th>...</th>\n",
       "      <td>...</td>\n",
       "      <td>...</td>\n",
       "      <td>...</td>\n",
       "      <td>...</td>\n",
       "      <td>...</td>\n",
       "      <td>...</td>\n",
       "      <td>...</td>\n",
       "    </tr>\n",
       "    <tr>\n",
       "      <th>10096284</th>\n",
       "      <td>3017641.0</td>\n",
       "      <td>9300206.0</td>\n",
       "      <td>1591.0</td>\n",
       "      <td>19398081.0</td>\n",
       "      <td>12015649.0</td>\n",
       "      <td>108.56</td>\n",
       "      <td>2.55</td>\n",
       "    </tr>\n",
       "    <tr>\n",
       "      <th>15467645</th>\n",
       "      <td>3845168.0</td>\n",
       "      <td>15054813.0</td>\n",
       "      <td>913.0</td>\n",
       "      <td>30523371.0</td>\n",
       "      <td>17743645.0</td>\n",
       "      <td>102.74</td>\n",
       "      <td>2.89</td>\n",
       "    </tr>\n",
       "    <tr>\n",
       "      <th>24927046</th>\n",
       "      <td>8585610.0</td>\n",
       "      <td>22956478.0</td>\n",
       "      <td>2527.0</td>\n",
       "      <td>47886051.0</td>\n",
       "      <td>30439893.0</td>\n",
       "      <td>108.58</td>\n",
       "      <td>2.41</td>\n",
       "    </tr>\n",
       "    <tr>\n",
       "      <th>55958974</th>\n",
       "      <td>17103835.0</td>\n",
       "      <td>54046759.0</td>\n",
       "      <td>6709.0</td>\n",
       "      <td>110012442.0</td>\n",
       "      <td>73621290.0</td>\n",
       "      <td>103.54</td>\n",
       "      <td>2.13</td>\n",
       "    </tr>\n",
       "    <tr>\n",
       "      <th>106449322</th>\n",
       "      <td>32205111.0</td>\n",
       "      <td>101314780.0</td>\n",
       "      <td>10418.0</td>\n",
       "      <td>207774520.0</td>\n",
       "      <td>132352279.0</td>\n",
       "      <td>105.07</td>\n",
       "      <td>2.40</td>\n",
       "    </tr>\n",
       "  </tbody>\n",
       "</table>\n",
       "<p>169 rows × 7 columns</p>\n",
       "</div>"
      ],
      "text/plain": [
       "           households       female  transgender  all genders  population 1998  \\\n",
       "male                                                                            \n",
       "13612          3348.0      12747.0          0.0      26359.0           6987.0   \n",
       "18785          4165.0      17604.0          0.0      36389.0          27216.0   \n",
       "22298          4188.0      20816.0          0.0      43114.0          19593.0   \n",
       "31563          7065.0      33128.0          0.0      64691.0          53841.0   \n",
       "35361          6924.0      33195.0          0.0      68556.0          38990.0   \n",
       "...               ...          ...          ...          ...              ...   \n",
       "10096284    3017641.0    9300206.0       1591.0   19398081.0       12015649.0   \n",
       "15467645    3845168.0   15054813.0        913.0   30523371.0       17743645.0   \n",
       "24927046    8585610.0   22956478.0       2527.0   47886051.0       30439893.0   \n",
       "55958974   17103835.0   54046759.0       6709.0  110012442.0       73621290.0   \n",
       "106449322  32205111.0  101314780.0      10418.0  207774520.0      132352279.0   \n",
       "\n",
       "           sex ratio  average annual growth rate  \n",
       "male                                              \n",
       "13612         106.79                        7.22  \n",
       "18785         106.71                        1.54  \n",
       "22298         107.12                        4.23  \n",
       "31563          95.28                        0.97  \n",
       "35361         106.53                        3.01  \n",
       "...              ...                         ...  \n",
       "10096284      108.56                        2.55  \n",
       "15467645      102.74                        2.89  \n",
       "24927046      108.58                        2.41  \n",
       "55958974      103.54                        2.13  \n",
       "106449322     105.07                        2.40  \n",
       "\n",
       "[169 rows x 7 columns]"
      ]
     },
     "execution_count": 5,
     "metadata": {},
     "output_type": "execute_result"
    }
   ],
   "source": [
    "data.groupby(\"male\").mean()"
   ]
  },
  {
   "cell_type": "code",
   "execution_count": 6,
   "metadata": {},
   "outputs": [
    {
     "data": {
      "text/html": [
       "<div>\n",
       "<style scoped>\n",
       "    .dataframe tbody tr th:only-of-type {\n",
       "        vertical-align: middle;\n",
       "    }\n",
       "\n",
       "    .dataframe tbody tr th {\n",
       "        vertical-align: top;\n",
       "    }\n",
       "\n",
       "    .dataframe thead th {\n",
       "        text-align: right;\n",
       "    }\n",
       "</style>\n",
       "<table border=\"1\" class=\"dataframe\">\n",
       "  <thead>\n",
       "    <tr style=\"text-align: right;\">\n",
       "      <th></th>\n",
       "      <th>area</th>\n",
       "      <th>male</th>\n",
       "      <th>female</th>\n",
       "      <th>transgender</th>\n",
       "      <th>all genders</th>\n",
       "      <th>population 1998</th>\n",
       "      <th>average annual growth rate</th>\n",
       "    </tr>\n",
       "  </thead>\n",
       "  <tbody>\n",
       "    <tr>\n",
       "      <th>0</th>\n",
       "      <td>PAKISTAN *</td>\n",
       "      <td>106449322</td>\n",
       "      <td>101314780</td>\n",
       "      <td>10418</td>\n",
       "      <td>207774520</td>\n",
       "      <td>132352279</td>\n",
       "      <td>2.40</td>\n",
       "    </tr>\n",
       "    <tr>\n",
       "      <th>1</th>\n",
       "      <td>KHYBER PAKHTUNKHWA</td>\n",
       "      <td>15467645</td>\n",
       "      <td>15054813</td>\n",
       "      <td>913</td>\n",
       "      <td>30523371</td>\n",
       "      <td>17743645</td>\n",
       "      <td>2.89</td>\n",
       "    </tr>\n",
       "    <tr>\n",
       "      <th>2</th>\n",
       "      <td>FATA</td>\n",
       "      <td>2556292</td>\n",
       "      <td>2445357</td>\n",
       "      <td>27</td>\n",
       "      <td>5001676</td>\n",
       "      <td>3176331</td>\n",
       "      <td>2.41</td>\n",
       "    </tr>\n",
       "    <tr>\n",
       "      <th>3</th>\n",
       "      <td>PUNJAB</td>\n",
       "      <td>55958974</td>\n",
       "      <td>54046759</td>\n",
       "      <td>6709</td>\n",
       "      <td>110012442</td>\n",
       "      <td>73621290</td>\n",
       "      <td>2.13</td>\n",
       "    </tr>\n",
       "    <tr>\n",
       "      <th>4</th>\n",
       "      <td>SINDH</td>\n",
       "      <td>24927046</td>\n",
       "      <td>22956478</td>\n",
       "      <td>2527</td>\n",
       "      <td>47886051</td>\n",
       "      <td>30439893</td>\n",
       "      <td>2.41</td>\n",
       "    </tr>\n",
       "    <tr>\n",
       "      <th>5</th>\n",
       "      <td>BALOCHISTAN</td>\n",
       "      <td>6483653</td>\n",
       "      <td>5860646</td>\n",
       "      <td>109</td>\n",
       "      <td>12344408</td>\n",
       "      <td>6565885</td>\n",
       "      <td>3.37</td>\n",
       "    </tr>\n",
       "    <tr>\n",
       "      <th>6</th>\n",
       "      <td>ISLAMABAD</td>\n",
       "      <td>1055712</td>\n",
       "      <td>950727</td>\n",
       "      <td>133</td>\n",
       "      <td>2006572</td>\n",
       "      <td>805235</td>\n",
       "      <td>4.91</td>\n",
       "    </tr>\n",
       "    <tr>\n",
       "      <th>7</th>\n",
       "      <td>BANNU DIVISION</td>\n",
       "      <td>1035308</td>\n",
       "      <td>1008748</td>\n",
       "      <td>18</td>\n",
       "      <td>2044074</td>\n",
       "      <td>1165692</td>\n",
       "      <td>2.99</td>\n",
       "    </tr>\n",
       "    <tr>\n",
       "      <th>8</th>\n",
       "      <td>BANNU DISTRICT</td>\n",
       "      <td>593492</td>\n",
       "      <td>574391</td>\n",
       "      <td>9</td>\n",
       "      <td>1167892</td>\n",
       "      <td>675667</td>\n",
       "      <td>2.92</td>\n",
       "    </tr>\n",
       "    <tr>\n",
       "      <th>9</th>\n",
       "      <td>LAKKI MARWAT DISTRICT</td>\n",
       "      <td>441816</td>\n",
       "      <td>434357</td>\n",
       "      <td>9</td>\n",
       "      <td>876182</td>\n",
       "      <td>490025</td>\n",
       "      <td>3.10</td>\n",
       "    </tr>\n",
       "  </tbody>\n",
       "</table>\n",
       "</div>"
      ],
      "text/plain": [
       "                    area       male     female  transgender  all genders  \\\n",
       "0             PAKISTAN *  106449322  101314780        10418    207774520   \n",
       "1     KHYBER PAKHTUNKHWA   15467645   15054813          913     30523371   \n",
       "2                   FATA    2556292    2445357           27      5001676   \n",
       "3                 PUNJAB   55958974   54046759         6709    110012442   \n",
       "4                  SINDH   24927046   22956478         2527     47886051   \n",
       "5            BALOCHISTAN    6483653    5860646          109     12344408   \n",
       "6              ISLAMABAD    1055712     950727          133      2006572   \n",
       "7         BANNU DIVISION    1035308    1008748           18      2044074   \n",
       "8         BANNU DISTRICT     593492     574391            9      1167892   \n",
       "9  LAKKI MARWAT DISTRICT     441816     434357            9       876182   \n",
       "\n",
       "   population 1998  average annual growth rate  \n",
       "0        132352279                        2.40  \n",
       "1         17743645                        2.89  \n",
       "2          3176331                        2.41  \n",
       "3         73621290                        2.13  \n",
       "4         30439893                        2.41  \n",
       "5          6565885                        3.37  \n",
       "6           805235                        4.91  \n",
       "7          1165692                        2.99  \n",
       "8           675667                        2.92  \n",
       "9           490025                        3.10  "
      ]
     },
     "execution_count": 6,
     "metadata": {},
     "output_type": "execute_result"
    }
   ],
   "source": [
    "data.drop([\"households\", \"sex ratio\"], axis=1).head(10)"
   ]
  },
  {
   "cell_type": "code",
   "execution_count": 7,
   "metadata": {},
   "outputs": [
    {
     "data": {
      "text/plain": [
       "area                      male   \n",
       "ABBOTTABAD DISTRICT       677570     1\n",
       "NORTH WAZIRISTAN AGENCY   280232     1\n",
       "MULTAN DIVISION           6246794    1\n",
       "MUSAKHEL DISTRICT         90240      1\n",
       "MUZAFFARGARH DISTRICT     2218744    1\n",
       "                                    ..\n",
       "KARACHI CENTRAL DISTRICT  1543950    1\n",
       "KARACHI DIVISION          8439659    1\n",
       "KARACHI EAST DISTRICT     1528019    1\n",
       "KARACHI SOUTH DISTRICT    943546     1\n",
       "ZIARAT DISTRICT           82302      1\n",
       "Length: 169, dtype: int64"
      ]
     },
     "execution_count": 7,
     "metadata": {},
     "output_type": "execute_result"
    }
   ],
   "source": [
    "data.value_counts([\"area\", \"male\"])"
   ]
  },
  {
   "cell_type": "code",
   "execution_count": 8,
   "metadata": {},
   "outputs": [
    {
     "data": {
      "text/plain": [
       "area                      transgender\n",
       "ABBOTTABAD DISTRICT       61             1\n",
       "NORTH WAZIRISTAN AGENCY   7              1\n",
       "MULTAN DIVISION           607            1\n",
       "MUSAKHEL DISTRICT         0              1\n",
       "MUZAFFARGARH DISTRICT     133            1\n",
       "                                        ..\n",
       "KARACHI CENTRAL DISTRICT  327            1\n",
       "KARACHI DIVISION          1497           1\n",
       "KARACHI EAST DISTRICT     223            1\n",
       "KARACHI SOUTH DISTRICT    195            1\n",
       "ZIARAT DISTRICT           3              1\n",
       "Length: 169, dtype: int64"
      ]
     },
     "execution_count": 8,
     "metadata": {},
     "output_type": "execute_result"
    }
   ],
   "source": [
    "data.value_counts([\"area\", \"transgender\"])"
   ]
  },
  {
   "cell_type": "code",
   "execution_count": 9,
   "metadata": {},
   "outputs": [
    {
     "data": {
      "text/html": [
       "<div>\n",
       "<style scoped>\n",
       "    .dataframe tbody tr th:only-of-type {\n",
       "        vertical-align: middle;\n",
       "    }\n",
       "\n",
       "    .dataframe tbody tr th {\n",
       "        vertical-align: top;\n",
       "    }\n",
       "\n",
       "    .dataframe thead th {\n",
       "        text-align: right;\n",
       "    }\n",
       "</style>\n",
       "<table border=\"1\" class=\"dataframe\">\n",
       "  <thead>\n",
       "    <tr style=\"text-align: right;\">\n",
       "      <th></th>\n",
       "      <th>area</th>\n",
       "      <th>households</th>\n",
       "      <th>male</th>\n",
       "      <th>female</th>\n",
       "      <th>transgender</th>\n",
       "      <th>all genders</th>\n",
       "      <th>population 1998</th>\n",
       "      <th>sex ratio</th>\n",
       "      <th>average annual growth rate</th>\n",
       "    </tr>\n",
       "  </thead>\n",
       "  <tbody>\n",
       "    <tr>\n",
       "      <th>42</th>\n",
       "      <td>ORAKZAI AGENCY</td>\n",
       "      <td>31253</td>\n",
       "      <td>127477</td>\n",
       "      <td>126879</td>\n",
       "      <td>0</td>\n",
       "      <td>254356</td>\n",
       "      <td>225441</td>\n",
       "      <td>100.47</td>\n",
       "      <td>0.64</td>\n",
       "    </tr>\n",
       "    <tr>\n",
       "      <th>49</th>\n",
       "      <td>FR PESHAWAR</td>\n",
       "      <td>7065</td>\n",
       "      <td>31563</td>\n",
       "      <td>33128</td>\n",
       "      <td>0</td>\n",
       "      <td>64691</td>\n",
       "      <td>53841</td>\n",
       "      <td>95.28</td>\n",
       "      <td>0.97</td>\n",
       "    </tr>\n",
       "    <tr>\n",
       "      <th>132</th>\n",
       "      <td>AWARAN DISTRICT</td>\n",
       "      <td>18094</td>\n",
       "      <td>63023</td>\n",
       "      <td>58657</td>\n",
       "      <td>0</td>\n",
       "      <td>121680</td>\n",
       "      <td>118173</td>\n",
       "      <td>107.44</td>\n",
       "      <td>0.15</td>\n",
       "    </tr>\n",
       "    <tr>\n",
       "      <th>146</th>\n",
       "      <td>KACHHI DISTRICT</td>\n",
       "      <td>30140</td>\n",
       "      <td>126379</td>\n",
       "      <td>110651</td>\n",
       "      <td>0</td>\n",
       "      <td>237030</td>\n",
       "      <td>199457</td>\n",
       "      <td>114.21</td>\n",
       "      <td>0.91</td>\n",
       "    </tr>\n",
       "  </tbody>\n",
       "</table>\n",
       "</div>"
      ],
      "text/plain": [
       "                area  households    male  female  transgender  all genders  \\\n",
       "42    ORAKZAI AGENCY       31253  127477  126879            0       254356   \n",
       "49       FR PESHAWAR        7065   31563   33128            0        64691   \n",
       "132  AWARAN DISTRICT       18094   63023   58657            0       121680   \n",
       "146  KACHHI DISTRICT       30140  126379  110651            0       237030   \n",
       "\n",
       "     population 1998  sex ratio  average annual growth rate  \n",
       "42            225441     100.47                        0.64  \n",
       "49             53841      95.28                        0.97  \n",
       "132           118173     107.44                        0.15  \n",
       "146           199457     114.21                        0.91  "
      ]
     },
     "execution_count": 9,
     "metadata": {},
     "output_type": "execute_result"
    }
   ],
   "source": [
    "data[data[\"average annual growth rate\"]<1]"
   ]
  },
  {
   "cell_type": "code",
   "execution_count": 10,
   "metadata": {},
   "outputs": [
    {
     "data": {
      "text/plain": [
       "male     \n",
       "13612        1\n",
       "1240424      1\n",
       "1064484      1\n",
       "1074282      1\n",
       "1095580      1\n",
       "            ..\n",
       "498481       1\n",
       "505475       1\n",
       "510279       1\n",
       "515480       1\n",
       "106449322    1\n",
       "Length: 169, dtype: int64"
      ]
     },
     "execution_count": 10,
     "metadata": {},
     "output_type": "execute_result"
    }
   ],
   "source": [
    "data.value_counts([\"male\"])"
   ]
  },
  {
   "cell_type": "code",
   "execution_count": 11,
   "metadata": {},
   "outputs": [
    {
     "name": "stderr",
     "output_type": "stream",
     "text": [
      "C:\\Users\\hp\\AppData\\Local\\Temp\\ipykernel_5044\\2356283362.py:1: FutureWarning: The default value of numeric_only in DataFrameGroupBy.mean is deprecated. In a future version, numeric_only will default to False. Either specify numeric_only or select only columns which should be valid for the function.\n",
      "  data.groupby([\"male\", \"female\"]).mean()\n"
     ]
    },
    {
     "data": {
      "text/html": [
       "<div>\n",
       "<style scoped>\n",
       "    .dataframe tbody tr th:only-of-type {\n",
       "        vertical-align: middle;\n",
       "    }\n",
       "\n",
       "    .dataframe tbody tr th {\n",
       "        vertical-align: top;\n",
       "    }\n",
       "\n",
       "    .dataframe thead th {\n",
       "        text-align: right;\n",
       "    }\n",
       "</style>\n",
       "<table border=\"1\" class=\"dataframe\">\n",
       "  <thead>\n",
       "    <tr style=\"text-align: right;\">\n",
       "      <th></th>\n",
       "      <th></th>\n",
       "      <th>households</th>\n",
       "      <th>transgender</th>\n",
       "      <th>all genders</th>\n",
       "      <th>population 1998</th>\n",
       "      <th>sex ratio</th>\n",
       "      <th>average annual growth rate</th>\n",
       "    </tr>\n",
       "    <tr>\n",
       "      <th>male</th>\n",
       "      <th>female</th>\n",
       "      <th></th>\n",
       "      <th></th>\n",
       "      <th></th>\n",
       "      <th></th>\n",
       "      <th></th>\n",
       "      <th></th>\n",
       "    </tr>\n",
       "  </thead>\n",
       "  <tbody>\n",
       "    <tr>\n",
       "      <th>13612</th>\n",
       "      <th>12747</th>\n",
       "      <td>3348.0</td>\n",
       "      <td>0.0</td>\n",
       "      <td>26359.0</td>\n",
       "      <td>6987.0</td>\n",
       "      <td>106.79</td>\n",
       "      <td>7.22</td>\n",
       "    </tr>\n",
       "    <tr>\n",
       "      <th>18785</th>\n",
       "      <th>17604</th>\n",
       "      <td>4165.0</td>\n",
       "      <td>0.0</td>\n",
       "      <td>36389.0</td>\n",
       "      <td>27216.0</td>\n",
       "      <td>106.71</td>\n",
       "      <td>1.54</td>\n",
       "    </tr>\n",
       "    <tr>\n",
       "      <th>22298</th>\n",
       "      <th>20816</th>\n",
       "      <td>4188.0</td>\n",
       "      <td>0.0</td>\n",
       "      <td>43114.0</td>\n",
       "      <td>19593.0</td>\n",
       "      <td>107.12</td>\n",
       "      <td>4.23</td>\n",
       "    </tr>\n",
       "    <tr>\n",
       "      <th>31563</th>\n",
       "      <th>33128</th>\n",
       "      <td>7065.0</td>\n",
       "      <td>0.0</td>\n",
       "      <td>64691.0</td>\n",
       "      <td>53841.0</td>\n",
       "      <td>95.28</td>\n",
       "      <td>0.97</td>\n",
       "    </tr>\n",
       "    <tr>\n",
       "      <th>35361</th>\n",
       "      <th>33195</th>\n",
       "      <td>6924.0</td>\n",
       "      <td>0.0</td>\n",
       "      <td>68556.0</td>\n",
       "      <td>38990.0</td>\n",
       "      <td>106.53</td>\n",
       "      <td>3.01</td>\n",
       "    </tr>\n",
       "    <tr>\n",
       "      <th>...</th>\n",
       "      <th>...</th>\n",
       "      <td>...</td>\n",
       "      <td>...</td>\n",
       "      <td>...</td>\n",
       "      <td>...</td>\n",
       "      <td>...</td>\n",
       "      <td>...</td>\n",
       "    </tr>\n",
       "    <tr>\n",
       "      <th>10096284</th>\n",
       "      <th>9300206</th>\n",
       "      <td>3017641.0</td>\n",
       "      <td>1591.0</td>\n",
       "      <td>19398081.0</td>\n",
       "      <td>12015649.0</td>\n",
       "      <td>108.56</td>\n",
       "      <td>2.55</td>\n",
       "    </tr>\n",
       "    <tr>\n",
       "      <th>15467645</th>\n",
       "      <th>15054813</th>\n",
       "      <td>3845168.0</td>\n",
       "      <td>913.0</td>\n",
       "      <td>30523371.0</td>\n",
       "      <td>17743645.0</td>\n",
       "      <td>102.74</td>\n",
       "      <td>2.89</td>\n",
       "    </tr>\n",
       "    <tr>\n",
       "      <th>24927046</th>\n",
       "      <th>22956478</th>\n",
       "      <td>8585610.0</td>\n",
       "      <td>2527.0</td>\n",
       "      <td>47886051.0</td>\n",
       "      <td>30439893.0</td>\n",
       "      <td>108.58</td>\n",
       "      <td>2.41</td>\n",
       "    </tr>\n",
       "    <tr>\n",
       "      <th>55958974</th>\n",
       "      <th>54046759</th>\n",
       "      <td>17103835.0</td>\n",
       "      <td>6709.0</td>\n",
       "      <td>110012442.0</td>\n",
       "      <td>73621290.0</td>\n",
       "      <td>103.54</td>\n",
       "      <td>2.13</td>\n",
       "    </tr>\n",
       "    <tr>\n",
       "      <th>106449322</th>\n",
       "      <th>101314780</th>\n",
       "      <td>32205111.0</td>\n",
       "      <td>10418.0</td>\n",
       "      <td>207774520.0</td>\n",
       "      <td>132352279.0</td>\n",
       "      <td>105.07</td>\n",
       "      <td>2.40</td>\n",
       "    </tr>\n",
       "  </tbody>\n",
       "</table>\n",
       "<p>169 rows × 6 columns</p>\n",
       "</div>"
      ],
      "text/plain": [
       "                     households  transgender  all genders  population 1998  \\\n",
       "male      female                                                             \n",
       "13612     12747          3348.0          0.0      26359.0           6987.0   \n",
       "18785     17604          4165.0          0.0      36389.0          27216.0   \n",
       "22298     20816          4188.0          0.0      43114.0          19593.0   \n",
       "31563     33128          7065.0          0.0      64691.0          53841.0   \n",
       "35361     33195          6924.0          0.0      68556.0          38990.0   \n",
       "...                         ...          ...          ...              ...   \n",
       "10096284  9300206     3017641.0       1591.0   19398081.0       12015649.0   \n",
       "15467645  15054813    3845168.0        913.0   30523371.0       17743645.0   \n",
       "24927046  22956478    8585610.0       2527.0   47886051.0       30439893.0   \n",
       "55958974  54046759   17103835.0       6709.0  110012442.0       73621290.0   \n",
       "106449322 101314780  32205111.0      10418.0  207774520.0      132352279.0   \n",
       "\n",
       "                     sex ratio  average annual growth rate  \n",
       "male      female                                            \n",
       "13612     12747         106.79                        7.22  \n",
       "18785     17604         106.71                        1.54  \n",
       "22298     20816         107.12                        4.23  \n",
       "31563     33128          95.28                        0.97  \n",
       "35361     33195         106.53                        3.01  \n",
       "...                        ...                         ...  \n",
       "10096284  9300206       108.56                        2.55  \n",
       "15467645  15054813      102.74                        2.89  \n",
       "24927046  22956478      108.58                        2.41  \n",
       "55958974  54046759      103.54                        2.13  \n",
       "106449322 101314780     105.07                        2.40  \n",
       "\n",
       "[169 rows x 6 columns]"
      ]
     },
     "execution_count": 11,
     "metadata": {},
     "output_type": "execute_result"
    }
   ],
   "source": [
    "data.groupby([\"male\", \"female\"]).mean()"
   ]
  },
  {
   "cell_type": "code",
   "execution_count": 12,
   "metadata": {},
   "outputs": [
    {
     "data": {
      "text/html": [
       "<div>\n",
       "<style scoped>\n",
       "    .dataframe tbody tr th:only-of-type {\n",
       "        vertical-align: middle;\n",
       "    }\n",
       "\n",
       "    .dataframe tbody tr th {\n",
       "        vertical-align: top;\n",
       "    }\n",
       "\n",
       "    .dataframe thead th {\n",
       "        text-align: right;\n",
       "    }\n",
       "</style>\n",
       "<table border=\"1\" class=\"dataframe\">\n",
       "  <thead>\n",
       "    <tr style=\"text-align: right;\">\n",
       "      <th></th>\n",
       "      <th>area</th>\n",
       "      <th>households</th>\n",
       "      <th>male</th>\n",
       "      <th>female</th>\n",
       "      <th>transgender</th>\n",
       "      <th>all genders</th>\n",
       "      <th>population 1998</th>\n",
       "      <th>sex ratio</th>\n",
       "      <th>average annual growth rate</th>\n",
       "    </tr>\n",
       "  </thead>\n",
       "  <tbody>\n",
       "    <tr>\n",
       "      <th>0</th>\n",
       "      <td>PAKISTAN *</td>\n",
       "      <td>32205111</td>\n",
       "      <td>106449322</td>\n",
       "      <td>101314780</td>\n",
       "      <td>10418</td>\n",
       "      <td>207774520</td>\n",
       "      <td>132352279</td>\n",
       "      <td>105.07</td>\n",
       "      <td>2.40</td>\n",
       "    </tr>\n",
       "    <tr>\n",
       "      <th>1</th>\n",
       "      <td>KHYBER PAKHTUNKHWA</td>\n",
       "      <td>3845168</td>\n",
       "      <td>15467645</td>\n",
       "      <td>15054813</td>\n",
       "      <td>913</td>\n",
       "      <td>30523371</td>\n",
       "      <td>17743645</td>\n",
       "      <td>102.74</td>\n",
       "      <td>2.89</td>\n",
       "    </tr>\n",
       "    <tr>\n",
       "      <th>2</th>\n",
       "      <td>FATA</td>\n",
       "      <td>558379</td>\n",
       "      <td>2556292</td>\n",
       "      <td>2445357</td>\n",
       "      <td>27</td>\n",
       "      <td>5001676</td>\n",
       "      <td>3176331</td>\n",
       "      <td>104.54</td>\n",
       "      <td>2.41</td>\n",
       "    </tr>\n",
       "    <tr>\n",
       "      <th>3</th>\n",
       "      <td>PUNJAB</td>\n",
       "      <td>17103835</td>\n",
       "      <td>55958974</td>\n",
       "      <td>54046759</td>\n",
       "      <td>6709</td>\n",
       "      <td>110012442</td>\n",
       "      <td>73621290</td>\n",
       "      <td>103.54</td>\n",
       "      <td>2.13</td>\n",
       "    </tr>\n",
       "    <tr>\n",
       "      <th>4</th>\n",
       "      <td>SINDH</td>\n",
       "      <td>8585610</td>\n",
       "      <td>24927046</td>\n",
       "      <td>22956478</td>\n",
       "      <td>2527</td>\n",
       "      <td>47886051</td>\n",
       "      <td>30439893</td>\n",
       "      <td>108.58</td>\n",
       "      <td>2.41</td>\n",
       "    </tr>\n",
       "    <tr>\n",
       "      <th>...</th>\n",
       "      <td>...</td>\n",
       "      <td>...</td>\n",
       "      <td>...</td>\n",
       "      <td>...</td>\n",
       "      <td>...</td>\n",
       "      <td>...</td>\n",
       "      <td>...</td>\n",
       "      <td>...</td>\n",
       "      <td>...</td>\n",
       "    </tr>\n",
       "    <tr>\n",
       "      <th>164</th>\n",
       "      <td>KILLA SAIFULLAH DISTRICT</td>\n",
       "      <td>53478</td>\n",
       "      <td>181870</td>\n",
       "      <td>160944</td>\n",
       "      <td>0</td>\n",
       "      <td>342814</td>\n",
       "      <td>193553</td>\n",
       "      <td>113.00</td>\n",
       "      <td>3.05</td>\n",
       "    </tr>\n",
       "    <tr>\n",
       "      <th>165</th>\n",
       "      <td>LORALAI DISTRICT</td>\n",
       "      <td>55876</td>\n",
       "      <td>212451</td>\n",
       "      <td>184948</td>\n",
       "      <td>1</td>\n",
       "      <td>397400</td>\n",
       "      <td>250147</td>\n",
       "      <td>114.87</td>\n",
       "      <td>2.46</td>\n",
       "    </tr>\n",
       "    <tr>\n",
       "      <th>166</th>\n",
       "      <td>MUSAKHEL DISTRICT</td>\n",
       "      <td>24826</td>\n",
       "      <td>90240</td>\n",
       "      <td>76777</td>\n",
       "      <td>0</td>\n",
       "      <td>167017</td>\n",
       "      <td>134056</td>\n",
       "      <td>117.54</td>\n",
       "      <td>1.16</td>\n",
       "    </tr>\n",
       "    <tr>\n",
       "      <th>167</th>\n",
       "      <td>SHERANI DISTRICT</td>\n",
       "      <td>21213</td>\n",
       "      <td>84994</td>\n",
       "      <td>68115</td>\n",
       "      <td>7</td>\n",
       "      <td>153116</td>\n",
       "      <td>81684</td>\n",
       "      <td>124.78</td>\n",
       "      <td>3.35</td>\n",
       "    </tr>\n",
       "    <tr>\n",
       "      <th>168</th>\n",
       "      <td>ZHOB DISTRICT</td>\n",
       "      <td>45962</td>\n",
       "      <td>168358</td>\n",
       "      <td>142186</td>\n",
       "      <td>0</td>\n",
       "      <td>310544</td>\n",
       "      <td>193458</td>\n",
       "      <td>118.41</td>\n",
       "      <td>2.52</td>\n",
       "    </tr>\n",
       "  </tbody>\n",
       "</table>\n",
       "<p>169 rows × 9 columns</p>\n",
       "</div>"
      ],
      "text/plain": [
       "                         area  households       male     female  transgender  \\\n",
       "0                  PAKISTAN *    32205111  106449322  101314780        10418   \n",
       "1          KHYBER PAKHTUNKHWA     3845168   15467645   15054813          913   \n",
       "2                        FATA      558379    2556292    2445357           27   \n",
       "3                      PUNJAB    17103835   55958974   54046759         6709   \n",
       "4                       SINDH     8585610   24927046   22956478         2527   \n",
       "..                        ...         ...        ...        ...          ...   \n",
       "164  KILLA SAIFULLAH DISTRICT       53478     181870     160944            0   \n",
       "165          LORALAI DISTRICT       55876     212451     184948            1   \n",
       "166         MUSAKHEL DISTRICT       24826      90240      76777            0   \n",
       "167          SHERANI DISTRICT       21213      84994      68115            7   \n",
       "168             ZHOB DISTRICT       45962     168358     142186            0   \n",
       "\n",
       "     all genders  population 1998  sex ratio  average annual growth rate  \n",
       "0      207774520        132352279     105.07                        2.40  \n",
       "1       30523371         17743645     102.74                        2.89  \n",
       "2        5001676          3176331     104.54                        2.41  \n",
       "3      110012442         73621290     103.54                        2.13  \n",
       "4       47886051         30439893     108.58                        2.41  \n",
       "..           ...              ...        ...                         ...  \n",
       "164       342814           193553     113.00                        3.05  \n",
       "165       397400           250147     114.87                        2.46  \n",
       "166       167017           134056     117.54                        1.16  \n",
       "167       153116            81684     124.78                        3.35  \n",
       "168       310544           193458     118.41                        2.52  \n",
       "\n",
       "[169 rows x 9 columns]"
      ]
     },
     "execution_count": 12,
     "metadata": {},
     "output_type": "execute_result"
    }
   ],
   "source": [
    "data"
   ]
  },
  {
   "cell_type": "code",
   "execution_count": 13,
   "metadata": {},
   "outputs": [
    {
     "data": {
      "text/html": [
       "<div>\n",
       "<style scoped>\n",
       "    .dataframe tbody tr th:only-of-type {\n",
       "        vertical-align: middle;\n",
       "    }\n",
       "\n",
       "    .dataframe tbody tr th {\n",
       "        vertical-align: top;\n",
       "    }\n",
       "\n",
       "    .dataframe thead th {\n",
       "        text-align: right;\n",
       "    }\n",
       "</style>\n",
       "<table border=\"1\" class=\"dataframe\">\n",
       "  <thead>\n",
       "    <tr style=\"text-align: right;\">\n",
       "      <th></th>\n",
       "      <th>households</th>\n",
       "      <th>male</th>\n",
       "      <th>female</th>\n",
       "      <th>transgender</th>\n",
       "      <th>all genders</th>\n",
       "      <th>population 1998</th>\n",
       "      <th>sex ratio</th>\n",
       "      <th>average annual growth rate</th>\n",
       "    </tr>\n",
       "    <tr>\n",
       "      <th>area</th>\n",
       "      <th></th>\n",
       "      <th></th>\n",
       "      <th></th>\n",
       "      <th></th>\n",
       "      <th></th>\n",
       "      <th></th>\n",
       "      <th></th>\n",
       "      <th></th>\n",
       "    </tr>\n",
       "  </thead>\n",
       "  <tbody>\n",
       "    <tr>\n",
       "      <th>ABBOTTABAD DISTRICT</th>\n",
       "      <td>216534.0</td>\n",
       "      <td>677570.0</td>\n",
       "      <td>655281.0</td>\n",
       "      <td>61.0</td>\n",
       "      <td>1332912.0</td>\n",
       "      <td>880666.0</td>\n",
       "      <td>103.40</td>\n",
       "      <td>2.20</td>\n",
       "    </tr>\n",
       "    <tr>\n",
       "      <th>ATTOCK DISTRICT</th>\n",
       "      <td>306649.0</td>\n",
       "      <td>936811.0</td>\n",
       "      <td>946683.0</td>\n",
       "      <td>62.0</td>\n",
       "      <td>1883556.0</td>\n",
       "      <td>1274935.0</td>\n",
       "      <td>98.96</td>\n",
       "      <td>2.07</td>\n",
       "    </tr>\n",
       "    <tr>\n",
       "      <th>AWARAN DISTRICT</th>\n",
       "      <td>18094.0</td>\n",
       "      <td>63023.0</td>\n",
       "      <td>58657.0</td>\n",
       "      <td>0.0</td>\n",
       "      <td>121680.0</td>\n",
       "      <td>118173.0</td>\n",
       "      <td>107.44</td>\n",
       "      <td>0.15</td>\n",
       "    </tr>\n",
       "    <tr>\n",
       "      <th>BADIN DISTRICT</th>\n",
       "      <td>359376.0</td>\n",
       "      <td>932488.0</td>\n",
       "      <td>871979.0</td>\n",
       "      <td>49.0</td>\n",
       "      <td>1804516.0</td>\n",
       "      <td>1106272.0</td>\n",
       "      <td>106.94</td>\n",
       "      <td>2.60</td>\n",
       "    </tr>\n",
       "    <tr>\n",
       "      <th>BAHAWALNAGAR DISTRICT</th>\n",
       "      <td>481276.0</td>\n",
       "      <td>1514866.0</td>\n",
       "      <td>1466876.0</td>\n",
       "      <td>177.0</td>\n",
       "      <td>2981919.0</td>\n",
       "      <td>2061447.0</td>\n",
       "      <td>103.27</td>\n",
       "      <td>1.96</td>\n",
       "    </tr>\n",
       "    <tr>\n",
       "      <th>...</th>\n",
       "      <td>...</td>\n",
       "      <td>...</td>\n",
       "      <td>...</td>\n",
       "      <td>...</td>\n",
       "      <td>...</td>\n",
       "      <td>...</td>\n",
       "      <td>...</td>\n",
       "      <td>...</td>\n",
       "    </tr>\n",
       "    <tr>\n",
       "      <th>VEHARI DISTRICT</th>\n",
       "      <td>458068.0</td>\n",
       "      <td>1462027.0</td>\n",
       "      <td>1435212.0</td>\n",
       "      <td>207.0</td>\n",
       "      <td>2897446.0</td>\n",
       "      <td>2090416.0</td>\n",
       "      <td>101.87</td>\n",
       "      <td>1.73</td>\n",
       "    </tr>\n",
       "    <tr>\n",
       "      <th>WASHUK DISTRICT</th>\n",
       "      <td>31540.0</td>\n",
       "      <td>92031.0</td>\n",
       "      <td>84175.0</td>\n",
       "      <td>0.0</td>\n",
       "      <td>176206.0</td>\n",
       "      <td>110009.0</td>\n",
       "      <td>109.33</td>\n",
       "      <td>2.50</td>\n",
       "    </tr>\n",
       "    <tr>\n",
       "      <th>ZHOB DISTRICT</th>\n",
       "      <td>45962.0</td>\n",
       "      <td>168358.0</td>\n",
       "      <td>142186.0</td>\n",
       "      <td>0.0</td>\n",
       "      <td>310544.0</td>\n",
       "      <td>193458.0</td>\n",
       "      <td>118.41</td>\n",
       "      <td>2.52</td>\n",
       "    </tr>\n",
       "    <tr>\n",
       "      <th>ZHOB DIVISION</th>\n",
       "      <td>227396.0</td>\n",
       "      <td>828109.0</td>\n",
       "      <td>714329.0</td>\n",
       "      <td>9.0</td>\n",
       "      <td>1542447.0</td>\n",
       "      <td>956443.0</td>\n",
       "      <td>115.93</td>\n",
       "      <td>2.54</td>\n",
       "    </tr>\n",
       "    <tr>\n",
       "      <th>ZIARAT DISTRICT</th>\n",
       "      <td>28999.0</td>\n",
       "      <td>82302.0</td>\n",
       "      <td>78117.0</td>\n",
       "      <td>3.0</td>\n",
       "      <td>160422.0</td>\n",
       "      <td>80748.0</td>\n",
       "      <td>105.36</td>\n",
       "      <td>3.67</td>\n",
       "    </tr>\n",
       "  </tbody>\n",
       "</table>\n",
       "<p>169 rows × 8 columns</p>\n",
       "</div>"
      ],
      "text/plain": [
       "                       households       male     female  transgender  \\\n",
       "area                                                                   \n",
       "ABBOTTABAD DISTRICT      216534.0   677570.0   655281.0         61.0   \n",
       "ATTOCK DISTRICT          306649.0   936811.0   946683.0         62.0   \n",
       "AWARAN DISTRICT           18094.0    63023.0    58657.0          0.0   \n",
       "BADIN DISTRICT           359376.0   932488.0   871979.0         49.0   \n",
       "BAHAWALNAGAR DISTRICT    481276.0  1514866.0  1466876.0        177.0   \n",
       "...                           ...        ...        ...          ...   \n",
       "VEHARI DISTRICT          458068.0  1462027.0  1435212.0        207.0   \n",
       "WASHUK DISTRICT           31540.0    92031.0    84175.0          0.0   \n",
       "ZHOB DISTRICT             45962.0   168358.0   142186.0          0.0   \n",
       "ZHOB DIVISION            227396.0   828109.0   714329.0          9.0   \n",
       "ZIARAT DISTRICT           28999.0    82302.0    78117.0          3.0   \n",
       "\n",
       "                       all genders  population 1998  sex ratio  \\\n",
       "area                                                             \n",
       "ABBOTTABAD DISTRICT      1332912.0         880666.0     103.40   \n",
       "ATTOCK DISTRICT          1883556.0        1274935.0      98.96   \n",
       "AWARAN DISTRICT           121680.0         118173.0     107.44   \n",
       "BADIN DISTRICT           1804516.0        1106272.0     106.94   \n",
       "BAHAWALNAGAR DISTRICT    2981919.0        2061447.0     103.27   \n",
       "...                            ...              ...        ...   \n",
       "VEHARI DISTRICT          2897446.0        2090416.0     101.87   \n",
       "WASHUK DISTRICT           176206.0         110009.0     109.33   \n",
       "ZHOB DISTRICT             310544.0         193458.0     118.41   \n",
       "ZHOB DIVISION            1542447.0         956443.0     115.93   \n",
       "ZIARAT DISTRICT           160422.0          80748.0     105.36   \n",
       "\n",
       "                       average annual growth rate  \n",
       "area                                               \n",
       "ABBOTTABAD DISTRICT                          2.20  \n",
       "ATTOCK DISTRICT                              2.07  \n",
       "AWARAN DISTRICT                              0.15  \n",
       "BADIN DISTRICT                               2.60  \n",
       "BAHAWALNAGAR DISTRICT                        1.96  \n",
       "...                                           ...  \n",
       "VEHARI DISTRICT                              1.73  \n",
       "WASHUK DISTRICT                              2.50  \n",
       "ZHOB DISTRICT                                2.52  \n",
       "ZHOB DIVISION                                2.54  \n",
       "ZIARAT DISTRICT                              3.67  \n",
       "\n",
       "[169 rows x 8 columns]"
      ]
     },
     "execution_count": 13,
     "metadata": {},
     "output_type": "execute_result"
    }
   ],
   "source": [
    "data.groupby(\"area\").mean()"
   ]
  },
  {
   "cell_type": "code",
   "execution_count": 14,
   "metadata": {},
   "outputs": [
    {
     "data": {
      "text/plain": [
       "male\n",
       "13612        1\n",
       "1240424      1\n",
       "1064484      1\n",
       "1074282      1\n",
       "1095580      1\n",
       "            ..\n",
       "498481       1\n",
       "505475       1\n",
       "510279       1\n",
       "515480       1\n",
       "106449322    1\n",
       "Length: 169, dtype: int64"
      ]
     },
     "execution_count": 14,
     "metadata": {},
     "output_type": "execute_result"
    }
   ],
   "source": [
    "data.value_counts(\"male\")"
   ]
  },
  {
   "cell_type": "code",
   "execution_count": 15,
   "metadata": {},
   "outputs": [
    {
     "data": {
      "text/html": [
       "<div>\n",
       "<style scoped>\n",
       "    .dataframe tbody tr th:only-of-type {\n",
       "        vertical-align: middle;\n",
       "    }\n",
       "\n",
       "    .dataframe tbody tr th {\n",
       "        vertical-align: top;\n",
       "    }\n",
       "\n",
       "    .dataframe thead th {\n",
       "        text-align: right;\n",
       "    }\n",
       "</style>\n",
       "<table border=\"1\" class=\"dataframe\">\n",
       "  <thead>\n",
       "    <tr style=\"text-align: right;\">\n",
       "      <th></th>\n",
       "      <th>area</th>\n",
       "      <th>households</th>\n",
       "      <th>male</th>\n",
       "      <th>female</th>\n",
       "      <th>transgender</th>\n",
       "      <th>all genders</th>\n",
       "      <th>population 1998</th>\n",
       "      <th>sex ratio</th>\n",
       "      <th>average annual growth rate</th>\n",
       "    </tr>\n",
       "  </thead>\n",
       "  <tbody>\n",
       "    <tr>\n",
       "      <th>0</th>\n",
       "      <td>PAKISTAN *</td>\n",
       "      <td>32205111</td>\n",
       "      <td>106449322</td>\n",
       "      <td>101314780</td>\n",
       "      <td>10418</td>\n",
       "      <td>207774520</td>\n",
       "      <td>132352279</td>\n",
       "      <td>105.07</td>\n",
       "      <td>2.4</td>\n",
       "    </tr>\n",
       "  </tbody>\n",
       "</table>\n",
       "</div>"
      ],
      "text/plain": [
       "         area  households       male     female  transgender  all genders  \\\n",
       "0  PAKISTAN *    32205111  106449322  101314780        10418    207774520   \n",
       "\n",
       "   population 1998  sex ratio  average annual growth rate  \n",
       "0        132352279     105.07                         2.4  "
      ]
     },
     "execution_count": 15,
     "metadata": {},
     "output_type": "execute_result"
    }
   ],
   "source": [
    "data[0:1]"
   ]
  },
  {
   "cell_type": "code",
   "execution_count": 16,
   "metadata": {},
   "outputs": [
    {
     "data": {
      "text/plain": [
       "male     \n",
       "13612        1\n",
       "1240424      1\n",
       "1064484      1\n",
       "1074282      1\n",
       "1095580      1\n",
       "            ..\n",
       "498481       1\n",
       "505475       1\n",
       "510279       1\n",
       "515480       1\n",
       "106449322    1\n",
       "Length: 169, dtype: int64"
      ]
     },
     "execution_count": 16,
     "metadata": {},
     "output_type": "execute_result"
    }
   ],
   "source": [
    "data.value_counts([ \"male\"])"
   ]
  },
  {
   "cell_type": "code",
   "execution_count": 17,
   "metadata": {},
   "outputs": [
    {
     "data": {
      "text/html": [
       "<div>\n",
       "<style scoped>\n",
       "    .dataframe tbody tr th:only-of-type {\n",
       "        vertical-align: middle;\n",
       "    }\n",
       "\n",
       "    .dataframe tbody tr th {\n",
       "        vertical-align: top;\n",
       "    }\n",
       "\n",
       "    .dataframe thead th {\n",
       "        text-align: right;\n",
       "    }\n",
       "</style>\n",
       "<table border=\"1\" class=\"dataframe\">\n",
       "  <thead>\n",
       "    <tr style=\"text-align: right;\">\n",
       "      <th></th>\n",
       "      <th>area</th>\n",
       "      <th>households</th>\n",
       "      <th>male</th>\n",
       "      <th>female</th>\n",
       "      <th>transgender</th>\n",
       "      <th>all genders</th>\n",
       "      <th>population 1998</th>\n",
       "      <th>sex ratio</th>\n",
       "      <th>average annual growth rate</th>\n",
       "    </tr>\n",
       "  </thead>\n",
       "  <tbody>\n",
       "    <tr>\n",
       "      <th>0</th>\n",
       "      <td>PAKISTAN *</td>\n",
       "      <td>32205111</td>\n",
       "      <td>106449322</td>\n",
       "      <td>101314780</td>\n",
       "      <td>10418</td>\n",
       "      <td>207774520</td>\n",
       "      <td>132352279</td>\n",
       "      <td>105.07</td>\n",
       "      <td>2.40</td>\n",
       "    </tr>\n",
       "    <tr>\n",
       "      <th>1</th>\n",
       "      <td>KHYBER PAKHTUNKHWA</td>\n",
       "      <td>3845168</td>\n",
       "      <td>15467645</td>\n",
       "      <td>15054813</td>\n",
       "      <td>913</td>\n",
       "      <td>30523371</td>\n",
       "      <td>17743645</td>\n",
       "      <td>102.74</td>\n",
       "      <td>2.89</td>\n",
       "    </tr>\n",
       "    <tr>\n",
       "      <th>2</th>\n",
       "      <td>FATA</td>\n",
       "      <td>558379</td>\n",
       "      <td>2556292</td>\n",
       "      <td>2445357</td>\n",
       "      <td>27</td>\n",
       "      <td>5001676</td>\n",
       "      <td>3176331</td>\n",
       "      <td>104.54</td>\n",
       "      <td>2.41</td>\n",
       "    </tr>\n",
       "    <tr>\n",
       "      <th>3</th>\n",
       "      <td>PUNJAB</td>\n",
       "      <td>17103835</td>\n",
       "      <td>55958974</td>\n",
       "      <td>54046759</td>\n",
       "      <td>6709</td>\n",
       "      <td>110012442</td>\n",
       "      <td>73621290</td>\n",
       "      <td>103.54</td>\n",
       "      <td>2.13</td>\n",
       "    </tr>\n",
       "    <tr>\n",
       "      <th>4</th>\n",
       "      <td>SINDH</td>\n",
       "      <td>8585610</td>\n",
       "      <td>24927046</td>\n",
       "      <td>22956478</td>\n",
       "      <td>2527</td>\n",
       "      <td>47886051</td>\n",
       "      <td>30439893</td>\n",
       "      <td>108.58</td>\n",
       "      <td>2.41</td>\n",
       "    </tr>\n",
       "  </tbody>\n",
       "</table>\n",
       "</div>"
      ],
      "text/plain": [
       "                 area  households       male     female  transgender  \\\n",
       "0          PAKISTAN *    32205111  106449322  101314780        10418   \n",
       "1  KHYBER PAKHTUNKHWA     3845168   15467645   15054813          913   \n",
       "2                FATA      558379    2556292    2445357           27   \n",
       "3              PUNJAB    17103835   55958974   54046759         6709   \n",
       "4               SINDH     8585610   24927046   22956478         2527   \n",
       "\n",
       "   all genders  population 1998  sex ratio  average annual growth rate  \n",
       "0    207774520        132352279     105.07                        2.40  \n",
       "1     30523371         17743645     102.74                        2.89  \n",
       "2      5001676          3176331     104.54                        2.41  \n",
       "3    110012442         73621290     103.54                        2.13  \n",
       "4     47886051         30439893     108.58                        2.41  "
      ]
     },
     "execution_count": 17,
     "metadata": {},
     "output_type": "execute_result"
    }
   ],
   "source": [
    "data[0:5]"
   ]
  },
  {
   "cell_type": "code",
   "execution_count": 18,
   "metadata": {},
   "outputs": [
    {
     "data": {
      "text/plain": [
       "transgender\n",
       "0              24\n",
       "1               7\n",
       "9               6\n",
       "3               5\n",
       "20              3\n",
       "               ..\n",
       "64              1\n",
       "62              1\n",
       "61              1\n",
       "52              1\n",
       "10418           1\n",
       "Length: 108, dtype: int64"
      ]
     },
     "execution_count": 18,
     "metadata": {},
     "output_type": "execute_result"
    }
   ],
   "source": [
    "data.value_counts([\"transgender\"])"
   ]
  },
  {
   "cell_type": "code",
   "execution_count": 19,
   "metadata": {},
   "outputs": [
    {
     "data": {
      "text/plain": [
       "area                   transgender\n",
       "ABBOTTABAD DISTRICT    61             1\n",
       "ATTOCK DISTRICT        62             1\n",
       "AWARAN DISTRICT        0              1\n",
       "BADIN DISTRICT         49             1\n",
       "BAHAWALNAGAR DISTRICT  177            1\n",
       "                                     ..\n",
       "VEHARI DISTRICT        207            1\n",
       "WASHUK DISTRICT        0              1\n",
       "ZHOB DISTRICT          0              1\n",
       "ZHOB DIVISION          9              1\n",
       "ZIARAT DISTRICT        3              1\n",
       "Length: 169, dtype: int64"
      ]
     },
     "execution_count": 19,
     "metadata": {},
     "output_type": "execute_result"
    }
   ],
   "source": [
    "data.groupby(\"area\").value_counts([\"transgender\"])"
   ]
  },
  {
   "cell_type": "code",
   "execution_count": 20,
   "metadata": {},
   "outputs": [
    {
     "data": {
      "text/plain": [
       "area                   male   \n",
       "ABBOTTABAD DISTRICT    677570     1\n",
       "ATTOCK DISTRICT        936811     1\n",
       "AWARAN DISTRICT        63023      1\n",
       "BADIN DISTRICT         932488     1\n",
       "BAHAWALNAGAR DISTRICT  1514866    1\n",
       "                                 ..\n",
       "VEHARI DISTRICT        1462027    1\n",
       "WASHUK DISTRICT        92031      1\n",
       "ZHOB DISTRICT          168358     1\n",
       "ZHOB DIVISION          828109     1\n",
       "ZIARAT DISTRICT        82302      1\n",
       "Length: 169, dtype: int64"
      ]
     },
     "execution_count": 20,
     "metadata": {},
     "output_type": "execute_result"
    }
   ],
   "source": [
    "data.groupby(\"area\").value_counts([\"male\"])"
   ]
  },
  {
   "cell_type": "code",
   "execution_count": 21,
   "metadata": {},
   "outputs": [
    {
     "data": {
      "text/plain": [
       "array([['PAKISTAN *', 32205111, 106449322, ..., 132352279, 105.07, 2.4],\n",
       "       ['KHYBER PAKHTUNKHWA', 3845168, 15467645, ..., 17743645, 102.74,\n",
       "        2.89],\n",
       "       ['FATA', 558379, 2556292, ..., 3176331, 104.54, 2.41],\n",
       "       ...,\n",
       "       ['MUSAKHEL DISTRICT', 24826, 90240, ..., 134056, 117.54, 1.16],\n",
       "       ['SHERANI DISTRICT', 21213, 84994, ..., 81684, 124.78, 3.35],\n",
       "       ['ZHOB DISTRICT', 45962, 168358, ..., 193458, 118.41, 2.52]],\n",
       "      dtype=object)"
      ]
     },
     "execution_count": 21,
     "metadata": {},
     "output_type": "execute_result"
    }
   ],
   "source": [
    "data.values"
   ]
  },
  {
   "cell_type": "code",
   "execution_count": 22,
   "metadata": {},
   "outputs": [
    {
     "data": {
      "text/html": [
       "<div>\n",
       "<style scoped>\n",
       "    .dataframe tbody tr th:only-of-type {\n",
       "        vertical-align: middle;\n",
       "    }\n",
       "\n",
       "    .dataframe tbody tr th {\n",
       "        vertical-align: top;\n",
       "    }\n",
       "\n",
       "    .dataframe thead th {\n",
       "        text-align: right;\n",
       "    }\n",
       "</style>\n",
       "<table border=\"1\" class=\"dataframe\">\n",
       "  <thead>\n",
       "    <tr style=\"text-align: right;\">\n",
       "      <th></th>\n",
       "      <th>households</th>\n",
       "      <th>male</th>\n",
       "      <th>female</th>\n",
       "      <th>transgender</th>\n",
       "      <th>all genders</th>\n",
       "      <th>population 1998</th>\n",
       "      <th>sex ratio</th>\n",
       "      <th>average annual growth rate</th>\n",
       "    </tr>\n",
       "  </thead>\n",
       "  <tbody>\n",
       "    <tr>\n",
       "      <th>count</th>\n",
       "      <td>1.690000e+02</td>\n",
       "      <td>1.690000e+02</td>\n",
       "      <td>1.690000e+02</td>\n",
       "      <td>169.000000</td>\n",
       "      <td>1.690000e+02</td>\n",
       "      <td>1.690000e+02</td>\n",
       "      <td>169.000000</td>\n",
       "      <td>169.000000</td>\n",
       "    </tr>\n",
       "    <tr>\n",
       "      <th>mean</th>\n",
       "      <td>7.548121e+05</td>\n",
       "      <td>2.491381e+06</td>\n",
       "      <td>2.371758e+06</td>\n",
       "      <td>244.810651</td>\n",
       "      <td>4.863384e+06</td>\n",
       "      <td>3.103240e+06</td>\n",
       "      <td>105.861243</td>\n",
       "      <td>2.500473</td>\n",
       "    </tr>\n",
       "    <tr>\n",
       "      <th>std</th>\n",
       "      <td>2.881756e+06</td>\n",
       "      <td>9.467108e+06</td>\n",
       "      <td>9.027905e+06</td>\n",
       "      <td>985.385729</td>\n",
       "      <td>1.849560e+07</td>\n",
       "      <td>1.189547e+07</td>\n",
       "      <td>5.307864</td>\n",
       "      <td>0.885385</td>\n",
       "    </tr>\n",
       "    <tr>\n",
       "      <th>min</th>\n",
       "      <td>3.348000e+03</td>\n",
       "      <td>1.361200e+04</td>\n",
       "      <td>1.274700e+04</td>\n",
       "      <td>0.000000</td>\n",
       "      <td>2.635900e+04</td>\n",
       "      <td>6.987000e+03</td>\n",
       "      <td>92.690000</td>\n",
       "      <td>0.150000</td>\n",
       "    </tr>\n",
       "    <tr>\n",
       "      <th>25%</th>\n",
       "      <td>8.969500e+04</td>\n",
       "      <td>3.500100e+05</td>\n",
       "      <td>3.272020e+05</td>\n",
       "      <td>5.000000</td>\n",
       "      <td>6.791850e+05</td>\n",
       "      <td>4.132040e+05</td>\n",
       "      <td>102.960000</td>\n",
       "      <td>1.940000</td>\n",
       "    </tr>\n",
       "    <tr>\n",
       "      <th>50%</th>\n",
       "      <td>2.316640e+05</td>\n",
       "      <td>7.817220e+05</td>\n",
       "      <td>7.672660e+05</td>\n",
       "      <td>41.000000</td>\n",
       "      <td>1.546094e+06</td>\n",
       "      <td>9.687970e+05</td>\n",
       "      <td>106.040000</td>\n",
       "      <td>2.440000</td>\n",
       "    </tr>\n",
       "    <tr>\n",
       "      <th>75%</th>\n",
       "      <td>4.898430e+05</td>\n",
       "      <td>1.528019e+06</td>\n",
       "      <td>1.437171e+06</td>\n",
       "      <td>144.000000</td>\n",
       "      <td>2.971626e+06</td>\n",
       "      <td>2.061447e+06</td>\n",
       "      <td>108.580000</td>\n",
       "      <td>2.960000</td>\n",
       "    </tr>\n",
       "    <tr>\n",
       "      <th>max</th>\n",
       "      <td>3.220511e+07</td>\n",
       "      <td>1.064493e+08</td>\n",
       "      <td>1.013148e+08</td>\n",
       "      <td>10418.000000</td>\n",
       "      <td>2.077745e+08</td>\n",
       "      <td>1.323523e+08</td>\n",
       "      <td>124.780000</td>\n",
       "      <td>7.220000</td>\n",
       "    </tr>\n",
       "  </tbody>\n",
       "</table>\n",
       "</div>"
      ],
      "text/plain": [
       "         households          male        female   transgender   all genders  \\\n",
       "count  1.690000e+02  1.690000e+02  1.690000e+02    169.000000  1.690000e+02   \n",
       "mean   7.548121e+05  2.491381e+06  2.371758e+06    244.810651  4.863384e+06   \n",
       "std    2.881756e+06  9.467108e+06  9.027905e+06    985.385729  1.849560e+07   \n",
       "min    3.348000e+03  1.361200e+04  1.274700e+04      0.000000  2.635900e+04   \n",
       "25%    8.969500e+04  3.500100e+05  3.272020e+05      5.000000  6.791850e+05   \n",
       "50%    2.316640e+05  7.817220e+05  7.672660e+05     41.000000  1.546094e+06   \n",
       "75%    4.898430e+05  1.528019e+06  1.437171e+06    144.000000  2.971626e+06   \n",
       "max    3.220511e+07  1.064493e+08  1.013148e+08  10418.000000  2.077745e+08   \n",
       "\n",
       "       population 1998   sex ratio  average annual growth rate  \n",
       "count     1.690000e+02  169.000000                  169.000000  \n",
       "mean      3.103240e+06  105.861243                    2.500473  \n",
       "std       1.189547e+07    5.307864                    0.885385  \n",
       "min       6.987000e+03   92.690000                    0.150000  \n",
       "25%       4.132040e+05  102.960000                    1.940000  \n",
       "50%       9.687970e+05  106.040000                    2.440000  \n",
       "75%       2.061447e+06  108.580000                    2.960000  \n",
       "max       1.323523e+08  124.780000                    7.220000  "
      ]
     },
     "execution_count": 22,
     "metadata": {},
     "output_type": "execute_result"
    }
   ],
   "source": [
    "data.describe()"
   ]
  },
  {
   "cell_type": "code",
   "execution_count": 23,
   "metadata": {},
   "outputs": [
    {
     "data": {
      "text/html": [
       "<div>\n",
       "<style scoped>\n",
       "    .dataframe tbody tr th:only-of-type {\n",
       "        vertical-align: middle;\n",
       "    }\n",
       "\n",
       "    .dataframe tbody tr th {\n",
       "        vertical-align: top;\n",
       "    }\n",
       "\n",
       "    .dataframe thead th {\n",
       "        text-align: right;\n",
       "    }\n",
       "</style>\n",
       "<table border=\"1\" class=\"dataframe\">\n",
       "  <thead>\n",
       "    <tr style=\"text-align: right;\">\n",
       "      <th></th>\n",
       "      <th>area</th>\n",
       "      <th>households</th>\n",
       "      <th>male</th>\n",
       "      <th>female</th>\n",
       "      <th>transgender</th>\n",
       "      <th>all genders</th>\n",
       "      <th>population 1998</th>\n",
       "      <th>sex ratio</th>\n",
       "      <th>average annual growth rate</th>\n",
       "    </tr>\n",
       "  </thead>\n",
       "  <tbody>\n",
       "    <tr>\n",
       "      <th>3</th>\n",
       "      <td>PUNJAB</td>\n",
       "      <td>17103835</td>\n",
       "      <td>55958974</td>\n",
       "      <td>54046759</td>\n",
       "      <td>6709</td>\n",
       "      <td>110012442</td>\n",
       "      <td>73621290</td>\n",
       "      <td>103.54</td>\n",
       "      <td>2.13</td>\n",
       "    </tr>\n",
       "  </tbody>\n",
       "</table>\n",
       "</div>"
      ],
      "text/plain": [
       "     area  households      male    female  transgender  all genders  \\\n",
       "3  PUNJAB    17103835  55958974  54046759         6709    110012442   \n",
       "\n",
       "   population 1998  sex ratio  average annual growth rate  \n",
       "3         73621290     103.54                        2.13  "
      ]
     },
     "execution_count": 23,
     "metadata": {},
     "output_type": "execute_result"
    }
   ],
   "source": [
    "data[data[\"area\"] == \"PUNJAB\"]"
   ]
  },
  {
   "cell_type": "code",
   "execution_count": 24,
   "metadata": {},
   "outputs": [
    {
     "data": {
      "text/html": [
       "<div>\n",
       "<style scoped>\n",
       "    .dataframe tbody tr th:only-of-type {\n",
       "        vertical-align: middle;\n",
       "    }\n",
       "\n",
       "    .dataframe tbody tr th {\n",
       "        vertical-align: top;\n",
       "    }\n",
       "\n",
       "    .dataframe thead th {\n",
       "        text-align: right;\n",
       "    }\n",
       "</style>\n",
       "<table border=\"1\" class=\"dataframe\">\n",
       "  <thead>\n",
       "    <tr style=\"text-align: right;\">\n",
       "      <th></th>\n",
       "      <th>area</th>\n",
       "      <th>households</th>\n",
       "      <th>male</th>\n",
       "      <th>female</th>\n",
       "      <th>transgender</th>\n",
       "      <th>all genders</th>\n",
       "      <th>population 1998</th>\n",
       "      <th>sex ratio</th>\n",
       "      <th>average annual growth rate</th>\n",
       "    </tr>\n",
       "  </thead>\n",
       "  <tbody>\n",
       "    <tr>\n",
       "      <th>136</th>\n",
       "      <td>LASBELA DISTRICT</td>\n",
       "      <td>93165</td>\n",
       "      <td>299299</td>\n",
       "      <td>274985</td>\n",
       "      <td>8</td>\n",
       "      <td>574292</td>\n",
       "      <td>312695</td>\n",
       "      <td>108.84</td>\n",
       "      <td>3.24</td>\n",
       "    </tr>\n",
       "  </tbody>\n",
       "</table>\n",
       "</div>"
      ],
      "text/plain": [
       "                 area  households    male  female  transgender  all genders  \\\n",
       "136  LASBELA DISTRICT       93165  299299  274985            8       574292   \n",
       "\n",
       "     population 1998  sex ratio  average annual growth rate  \n",
       "136           312695     108.84                        3.24  "
      ]
     },
     "execution_count": 24,
     "metadata": {},
     "output_type": "execute_result"
    }
   ],
   "source": [
    "data[data[\"area\"]== \"LASBELA DISTRICT\"]"
   ]
  },
  {
   "cell_type": "code",
   "execution_count": 25,
   "metadata": {},
   "outputs": [
    {
     "data": {
      "text/plain": [
       "<pandas.core.groupby.generic.DataFrameGroupBy object at 0x000001F97F6BCB20>"
      ]
     },
     "execution_count": 25,
     "metadata": {},
     "output_type": "execute_result"
    }
   ],
   "source": [
    "data[data[\"area\"]== \"LASBELA DISTRICT\"].groupby(\"male\")"
   ]
  },
  {
   "cell_type": "code",
   "execution_count": 26,
   "metadata": {},
   "outputs": [],
   "source": [
    "data.to_csv(\"pk_data.csv\")"
   ]
  },
  {
   "cell_type": "code",
   "execution_count": 27,
   "metadata": {},
   "outputs": [
    {
     "name": "stderr",
     "output_type": "stream",
     "text": [
      "C:\\Users\\hp\\AppData\\Local\\Temp\\ipykernel_5044\\4184645713.py:1: FutureWarning: The default value of numeric_only in DataFrame.median is deprecated. In a future version, it will default to False. In addition, specifying 'numeric_only=None' is deprecated. Select only valid columns or specify the value of numeric_only to silence this warning.\n",
      "  data.median()\n"
     ]
    },
    {
     "data": {
      "text/plain": [
       "households                     231664.00\n",
       "male                           781722.00\n",
       "female                         767266.00\n",
       "transgender                        41.00\n",
       "all genders                   1546094.00\n",
       "population 1998                968797.00\n",
       "sex ratio                         106.04\n",
       "average annual growth rate          2.44\n",
       "dtype: float64"
      ]
     },
     "execution_count": 27,
     "metadata": {},
     "output_type": "execute_result"
    }
   ],
   "source": [
    "data.median()"
   ]
  },
  {
   "cell_type": "code",
   "execution_count": 28,
   "metadata": {},
   "outputs": [
    {
     "data": {
      "text/html": [
       "<div>\n",
       "<style scoped>\n",
       "    .dataframe tbody tr th:only-of-type {\n",
       "        vertical-align: middle;\n",
       "    }\n",
       "\n",
       "    .dataframe tbody tr th {\n",
       "        vertical-align: top;\n",
       "    }\n",
       "\n",
       "    .dataframe thead th {\n",
       "        text-align: right;\n",
       "    }\n",
       "</style>\n",
       "<table border=\"1\" class=\"dataframe\">\n",
       "  <thead>\n",
       "    <tr style=\"text-align: right;\">\n",
       "      <th></th>\n",
       "      <th>area</th>\n",
       "      <th>households</th>\n",
       "      <th>male</th>\n",
       "      <th>female</th>\n",
       "      <th>transgender</th>\n",
       "      <th>all genders</th>\n",
       "      <th>population 1998</th>\n",
       "      <th>sex ratio</th>\n",
       "      <th>average annual growth rate</th>\n",
       "    </tr>\n",
       "  </thead>\n",
       "  <tbody>\n",
       "    <tr>\n",
       "      <th>0</th>\n",
       "      <td>ABBOTTABAD DISTRICT</td>\n",
       "      <td>3348</td>\n",
       "      <td>13612</td>\n",
       "      <td>12747</td>\n",
       "      <td>0.0</td>\n",
       "      <td>26359</td>\n",
       "      <td>6987</td>\n",
       "      <td>102.96</td>\n",
       "      <td>1.97</td>\n",
       "    </tr>\n",
       "    <tr>\n",
       "      <th>1</th>\n",
       "      <td>ATTOCK DISTRICT</td>\n",
       "      <td>4165</td>\n",
       "      <td>18785</td>\n",
       "      <td>17604</td>\n",
       "      <td>NaN</td>\n",
       "      <td>36389</td>\n",
       "      <td>19593</td>\n",
       "      <td>104.71</td>\n",
       "      <td>NaN</td>\n",
       "    </tr>\n",
       "    <tr>\n",
       "      <th>2</th>\n",
       "      <td>AWARAN DISTRICT</td>\n",
       "      <td>4188</td>\n",
       "      <td>22298</td>\n",
       "      <td>20816</td>\n",
       "      <td>NaN</td>\n",
       "      <td>43114</td>\n",
       "      <td>27216</td>\n",
       "      <td>105.07</td>\n",
       "      <td>NaN</td>\n",
       "    </tr>\n",
       "    <tr>\n",
       "      <th>3</th>\n",
       "      <td>BADIN DISTRICT</td>\n",
       "      <td>6924</td>\n",
       "      <td>31563</td>\n",
       "      <td>33128</td>\n",
       "      <td>NaN</td>\n",
       "      <td>64691</td>\n",
       "      <td>38990</td>\n",
       "      <td>106.10</td>\n",
       "      <td>NaN</td>\n",
       "    </tr>\n",
       "    <tr>\n",
       "      <th>4</th>\n",
       "      <td>BAHAWALNAGAR DISTRICT</td>\n",
       "      <td>7065</td>\n",
       "      <td>35361</td>\n",
       "      <td>33195</td>\n",
       "      <td>NaN</td>\n",
       "      <td>68556</td>\n",
       "      <td>53841</td>\n",
       "      <td>106.41</td>\n",
       "      <td>NaN</td>\n",
       "    </tr>\n",
       "    <tr>\n",
       "      <th>...</th>\n",
       "      <td>...</td>\n",
       "      <td>...</td>\n",
       "      <td>...</td>\n",
       "      <td>...</td>\n",
       "      <td>...</td>\n",
       "      <td>...</td>\n",
       "      <td>...</td>\n",
       "      <td>...</td>\n",
       "      <td>...</td>\n",
       "    </tr>\n",
       "    <tr>\n",
       "      <th>164</th>\n",
       "      <td>VEHARI DISTRICT</td>\n",
       "      <td>3017641</td>\n",
       "      <td>10096284</td>\n",
       "      <td>9300206</td>\n",
       "      <td>NaN</td>\n",
       "      <td>19398081</td>\n",
       "      <td>12015649</td>\n",
       "      <td>NaN</td>\n",
       "      <td>NaN</td>\n",
       "    </tr>\n",
       "    <tr>\n",
       "      <th>165</th>\n",
       "      <td>WASHUK DISTRICT</td>\n",
       "      <td>3845168</td>\n",
       "      <td>15467645</td>\n",
       "      <td>15054813</td>\n",
       "      <td>NaN</td>\n",
       "      <td>30523371</td>\n",
       "      <td>17743645</td>\n",
       "      <td>NaN</td>\n",
       "      <td>NaN</td>\n",
       "    </tr>\n",
       "    <tr>\n",
       "      <th>166</th>\n",
       "      <td>ZHOB DISTRICT</td>\n",
       "      <td>8585610</td>\n",
       "      <td>24927046</td>\n",
       "      <td>22956478</td>\n",
       "      <td>NaN</td>\n",
       "      <td>47886051</td>\n",
       "      <td>30439893</td>\n",
       "      <td>NaN</td>\n",
       "      <td>NaN</td>\n",
       "    </tr>\n",
       "    <tr>\n",
       "      <th>167</th>\n",
       "      <td>ZHOB DIVISION</td>\n",
       "      <td>17103835</td>\n",
       "      <td>55958974</td>\n",
       "      <td>54046759</td>\n",
       "      <td>NaN</td>\n",
       "      <td>110012442</td>\n",
       "      <td>73621290</td>\n",
       "      <td>NaN</td>\n",
       "      <td>NaN</td>\n",
       "    </tr>\n",
       "    <tr>\n",
       "      <th>168</th>\n",
       "      <td>ZIARAT DISTRICT</td>\n",
       "      <td>32205111</td>\n",
       "      <td>106449322</td>\n",
       "      <td>101314780</td>\n",
       "      <td>NaN</td>\n",
       "      <td>207774520</td>\n",
       "      <td>132352279</td>\n",
       "      <td>NaN</td>\n",
       "      <td>NaN</td>\n",
       "    </tr>\n",
       "  </tbody>\n",
       "</table>\n",
       "<p>169 rows × 9 columns</p>\n",
       "</div>"
      ],
      "text/plain": [
       "                      area  households       male     female  transgender  \\\n",
       "0      ABBOTTABAD DISTRICT        3348      13612      12747          0.0   \n",
       "1          ATTOCK DISTRICT        4165      18785      17604          NaN   \n",
       "2          AWARAN DISTRICT        4188      22298      20816          NaN   \n",
       "3           BADIN DISTRICT        6924      31563      33128          NaN   \n",
       "4    BAHAWALNAGAR DISTRICT        7065      35361      33195          NaN   \n",
       "..                     ...         ...        ...        ...          ...   \n",
       "164        VEHARI DISTRICT     3017641   10096284    9300206          NaN   \n",
       "165        WASHUK DISTRICT     3845168   15467645   15054813          NaN   \n",
       "166          ZHOB DISTRICT     8585610   24927046   22956478          NaN   \n",
       "167          ZHOB DIVISION    17103835   55958974   54046759          NaN   \n",
       "168        ZIARAT DISTRICT    32205111  106449322  101314780          NaN   \n",
       "\n",
       "     all genders  population 1998  sex ratio  average annual growth rate  \n",
       "0          26359             6987     102.96                        1.97  \n",
       "1          36389            19593     104.71                         NaN  \n",
       "2          43114            27216     105.07                         NaN  \n",
       "3          64691            38990     106.10                         NaN  \n",
       "4          68556            53841     106.41                         NaN  \n",
       "..           ...              ...        ...                         ...  \n",
       "164     19398081         12015649        NaN                         NaN  \n",
       "165     30523371         17743645        NaN                         NaN  \n",
       "166     47886051         30439893        NaN                         NaN  \n",
       "167    110012442         73621290        NaN                         NaN  \n",
       "168    207774520        132352279        NaN                         NaN  \n",
       "\n",
       "[169 rows x 9 columns]"
      ]
     },
     "execution_count": 28,
     "metadata": {},
     "output_type": "execute_result"
    }
   ],
   "source": [
    "data.mode()"
   ]
  },
  {
   "cell_type": "code",
   "execution_count": 29,
   "metadata": {},
   "outputs": [
    {
     "data": {
      "text/plain": [
       "area                   female \n",
       "ABBOTTABAD DISTRICT    655281     1\n",
       "ATTOCK DISTRICT        946683     1\n",
       "AWARAN DISTRICT        58657      1\n",
       "BADIN DISTRICT         871979     1\n",
       "BAHAWALNAGAR DISTRICT  1466876    1\n",
       "                                 ..\n",
       "VEHARI DISTRICT        1435212    1\n",
       "WASHUK DISTRICT        84175      1\n",
       "ZHOB DISTRICT          142186     1\n",
       "ZHOB DIVISION          714329     1\n",
       "ZIARAT DISTRICT        78117      1\n",
       "Length: 169, dtype: int64"
      ]
     },
     "execution_count": 29,
     "metadata": {},
     "output_type": "execute_result"
    }
   ],
   "source": [
    "data.groupby(\"area\").value_counts([\"female\"])"
   ]
  },
  {
   "cell_type": "code",
   "execution_count": 30,
   "metadata": {},
   "outputs": [
    {
     "data": {
      "text/plain": [
       "male\n",
       "63023    1\n",
       "dtype: int64"
      ]
     },
     "execution_count": 30,
     "metadata": {},
     "output_type": "execute_result"
    }
   ],
   "source": [
    "data[data[\"area\"]== \"AWARAN DISTRICT\"].value_counts(\"male\")"
   ]
  },
  {
   "cell_type": "code",
   "execution_count": 31,
   "metadata": {},
   "outputs": [
    {
     "data": {
      "text/plain": [
       "female\n",
       "58657    1\n",
       "dtype: int64"
      ]
     },
     "execution_count": 31,
     "metadata": {},
     "output_type": "execute_result"
    }
   ],
   "source": [
    "data[data[\"area\"]== \"AWARAN DISTRICT\"].value_counts(\"female\")"
   ]
  },
  {
   "cell_type": "code",
   "execution_count": 32,
   "metadata": {},
   "outputs": [
    {
     "data": {
      "text/plain": [
       "transgender\n",
       "0    1\n",
       "dtype: int64"
      ]
     },
     "execution_count": 32,
     "metadata": {},
     "output_type": "execute_result"
    }
   ],
   "source": [
    "data[data[\"area\"]== \"AWARAN DISTRICT\"].value_counts(\"transgender\")"
   ]
  },
  {
   "cell_type": "code",
   "execution_count": 33,
   "metadata": {},
   "outputs": [
    {
     "data": {
      "text/plain": [
       "male\n",
       "299299    1\n",
       "dtype: int64"
      ]
     },
     "execution_count": 33,
     "metadata": {},
     "output_type": "execute_result"
    }
   ],
   "source": [
    "data[data[\"area\"]== \"LASBELA DISTRICT\"].value_counts(\"male\")"
   ]
  },
  {
   "cell_type": "code",
   "execution_count": 34,
   "metadata": {},
   "outputs": [
    {
     "data": {
      "text/plain": [
       "female\n",
       "58657    1\n",
       "dtype: int64"
      ]
     },
     "execution_count": 34,
     "metadata": {},
     "output_type": "execute_result"
    }
   ],
   "source": [
    "data[data[\"area\"]== \"AWARAN DISTRICT\"].value_counts(\"female\")"
   ]
  },
  {
   "cell_type": "code",
   "execution_count": 35,
   "metadata": {},
   "outputs": [
    {
     "data": {
      "text/plain": [
       "transgender\n",
       "0    1\n",
       "dtype: int64"
      ]
     },
     "execution_count": 35,
     "metadata": {},
     "output_type": "execute_result"
    }
   ],
   "source": [
    "data[data[\"area\"]== \"AWARAN DISTRICT\"].value_counts(\"transgender\")"
   ]
  },
  {
   "cell_type": "code",
   "execution_count": 36,
   "metadata": {},
   "outputs": [
    {
     "data": {
      "text/plain": [
       "0    1\n",
       "dtype: int64"
      ]
     },
     "execution_count": 36,
     "metadata": {},
     "output_type": "execute_result"
    }
   ],
   "source": [
    "data[data[\"area\"]== \"AWARAN DISTRICT\"].value_counts(\"male\").mode()"
   ]
  },
  {
   "cell_type": "code",
   "execution_count": 37,
   "metadata": {},
   "outputs": [
    {
     "data": {
      "text/plain": [
       "1.0"
      ]
     },
     "execution_count": 37,
     "metadata": {},
     "output_type": "execute_result"
    }
   ],
   "source": [
    "data[data[\"area\"]== \"AWARAN DISTRICT\"].value_counts(\"male\").median()"
   ]
  },
  {
   "cell_type": "code",
   "execution_count": 38,
   "metadata": {},
   "outputs": [],
   "source": [
    "import pandas as pd\n",
    "import numpy as np\n",
    "import matplotlib.pyplot as mlt\n",
    "import seaborn as sns"
   ]
  },
  {
   "cell_type": "code",
   "execution_count": 39,
   "metadata": {},
   "outputs": [
    {
     "name": "stdout",
     "output_type": "stream",
     "text": [
      "<class 'pandas.core.frame.DataFrame'>\n",
      "RangeIndex: 169 entries, 0 to 168\n",
      "Data columns (total 9 columns):\n",
      " #   Column                      Non-Null Count  Dtype  \n",
      "---  ------                      --------------  -----  \n",
      " 0   area                        169 non-null    object \n",
      " 1   households                  169 non-null    int64  \n",
      " 2   male                        169 non-null    int64  \n",
      " 3   female                      169 non-null    int64  \n",
      " 4   transgender                 169 non-null    int64  \n",
      " 5   all genders                 169 non-null    int64  \n",
      " 6   population 1998             169 non-null    int64  \n",
      " 7   sex ratio                   169 non-null    float64\n",
      " 8   average annual growth rate  169 non-null    float64\n",
      "dtypes: float64(2), int64(6), object(1)\n",
      "memory usage: 12.0+ KB\n"
     ]
    }
   ],
   "source": [
    "data.info()"
   ]
  },
  {
   "cell_type": "code",
   "execution_count": 40,
   "metadata": {},
   "outputs": [
    {
     "data": {
      "text/plain": [
       "Index(['area', 'households', 'male', 'female', 'transgender', 'all genders',\n",
       "       'population 1998', 'sex ratio', 'average annual growth rate'],\n",
       "      dtype='object')"
      ]
     },
     "execution_count": 40,
     "metadata": {},
     "output_type": "execute_result"
    }
   ],
   "source": [
    "data.columns"
   ]
  },
  {
   "cell_type": "code",
   "execution_count": 41,
   "metadata": {},
   "outputs": [
    {
     "data": {
      "text/plain": [
       "(169, 9)"
      ]
     },
     "execution_count": 41,
     "metadata": {},
     "output_type": "execute_result"
    }
   ],
   "source": [
    "data.shape"
   ]
  },
  {
   "cell_type": "code",
   "execution_count": 42,
   "metadata": {},
   "outputs": [
    {
     "data": {
      "text/plain": [
       "area                          169\n",
       "households                    169\n",
       "male                          169\n",
       "female                        169\n",
       "transgender                   108\n",
       "all genders                   169\n",
       "population 1998               169\n",
       "sex ratio                     159\n",
       "average annual growth rate    128\n",
       "dtype: int64"
      ]
     },
     "execution_count": 42,
     "metadata": {},
     "output_type": "execute_result"
    }
   ],
   "source": [
    "data.nunique()"
   ]
  },
  {
   "cell_type": "code",
   "execution_count": 43,
   "metadata": {},
   "outputs": [
    {
     "data": {
      "text/plain": [
       "area                          0\n",
       "households                    0\n",
       "male                          0\n",
       "female                        0\n",
       "transgender                   0\n",
       "all genders                   0\n",
       "population 1998               0\n",
       "sex ratio                     0\n",
       "average annual growth rate    0\n",
       "dtype: int64"
      ]
     },
     "execution_count": 43,
     "metadata": {},
     "output_type": "execute_result"
    }
   ],
   "source": [
    "data.isnull().sum()"
   ]
  },
  {
   "cell_type": "code",
   "execution_count": 44,
   "metadata": {},
   "outputs": [
    {
     "data": {
      "text/html": [
       "<div>\n",
       "<style scoped>\n",
       "    .dataframe tbody tr th:only-of-type {\n",
       "        vertical-align: middle;\n",
       "    }\n",
       "\n",
       "    .dataframe tbody tr th {\n",
       "        vertical-align: top;\n",
       "    }\n",
       "\n",
       "    .dataframe thead th {\n",
       "        text-align: right;\n",
       "    }\n",
       "</style>\n",
       "<table border=\"1\" class=\"dataframe\">\n",
       "  <thead>\n",
       "    <tr style=\"text-align: right;\">\n",
       "      <th></th>\n",
       "      <th>area</th>\n",
       "      <th>male</th>\n",
       "    </tr>\n",
       "  </thead>\n",
       "  <tbody>\n",
       "    <tr>\n",
       "      <th>0</th>\n",
       "      <td>PAKISTAN *</td>\n",
       "      <td>106449322</td>\n",
       "    </tr>\n",
       "    <tr>\n",
       "      <th>1</th>\n",
       "      <td>KHYBER PAKHTUNKHWA</td>\n",
       "      <td>15467645</td>\n",
       "    </tr>\n",
       "    <tr>\n",
       "      <th>2</th>\n",
       "      <td>FATA</td>\n",
       "      <td>2556292</td>\n",
       "    </tr>\n",
       "    <tr>\n",
       "      <th>3</th>\n",
       "      <td>PUNJAB</td>\n",
       "      <td>55958974</td>\n",
       "    </tr>\n",
       "    <tr>\n",
       "      <th>4</th>\n",
       "      <td>SINDH</td>\n",
       "      <td>24927046</td>\n",
       "    </tr>\n",
       "  </tbody>\n",
       "</table>\n",
       "</div>"
      ],
      "text/plain": [
       "                 area       male\n",
       "0          PAKISTAN *  106449322\n",
       "1  KHYBER PAKHTUNKHWA   15467645\n",
       "2                FATA    2556292\n",
       "3              PUNJAB   55958974\n",
       "4               SINDH   24927046"
      ]
     },
     "execution_count": 44,
     "metadata": {},
     "output_type": "execute_result"
    }
   ],
   "source": [
    "data[[\"area\",\"male\"]].head()"
   ]
  },
  {
   "cell_type": "code",
   "execution_count": 45,
   "metadata": {},
   "outputs": [
    {
     "data": {
      "text/plain": [
       "<Axes: ylabel='male'>"
      ]
     },
     "execution_count": 45,
     "metadata": {},
     "output_type": "execute_result"
    },
    {
     "data": {
      "image/png": "[encoded data removed]",
      "text/plain": [
       "<Figure size 640x480 with 1 Axes>"
      ]
     },
     "metadata": {},
     "output_type": "display_data"
    }
   ],
   "source": [
    "sns.boxplot(y=\"male\", data=data)"
   ]
  },
  {
   "cell_type": "code",
   "execution_count": 46,
   "metadata": {},
   "outputs": [
    {
     "data": {
      "text/plain": [
       "<seaborn.axisgrid.FacetGrid at 0x1f97f6be7d0>"
      ]
     },
     "execution_count": 46,
     "metadata": {},
     "output_type": "execute_result"
    },
    {
     "data": {
      "image/png": "[encoded data removed]",
      "text/plain": [
       "<Figure size 500x500 with 1 Axes>"
      ]
     },
     "metadata": {},
     "output_type": "display_data"
    }
   ],
   "source": [
    "sns.displot(x=\"all genders\",y=\"female\",data=data)"
   ]
  },
  {
   "cell_type": "code",
   "execution_count": 47,
   "metadata": {},
   "outputs": [
    {
     "data": {
      "text/plain": [
       "<Axes: >"
      ]
     },
     "execution_count": 47,
     "metadata": {},
     "output_type": "execute_result"
    },
    {
     "data": {
      "image/png": "[encoded data removed]",
      "text/plain": [
       "<Figure size 640x480 with 1 Axes>"
      ]
     },
     "metadata": {},
     "output_type": "display_data"
    }
   ],
   "source": [
    "sns.histplot()"
   ]
  },
  {
   "cell_type": "code",
   "execution_count": 48,
   "metadata": {},
   "outputs": [
    {
     "data": {
      "text/plain": [
       "<seaborn.axisgrid.FacetGrid at 0x1f900078940>"
      ]
     },
     "execution_count": 48,
     "metadata": {},
     "output_type": "execute_result"
    },
    {
     "data": {
      "image/png": "[encoded data removed]",
      "text/plain": [
       "<Figure size 629.875x500 with 1 Axes>"
      ]
     },
     "metadata": {},
     "output_type": "display_data"
    }
   ],
   "source": [
    "sns.catplot(x=\"transgender\", y=\"female\", hue=\"female\", data=data)"
   ]
  },
  {
   "cell_type": "code",
   "execution_count": 49,
   "metadata": {},
   "outputs": [
    {
     "data": {
      "text/plain": [
       "male     \n",
       "13612        1\n",
       "1240424      1\n",
       "1064484      1\n",
       "1074282      1\n",
       "1095580      1\n",
       "            ..\n",
       "498481       1\n",
       "505475       1\n",
       "510279       1\n",
       "515480       1\n",
       "106449322    1\n",
       "Length: 169, dtype: int64"
      ]
     },
     "execution_count": 49,
     "metadata": {},
     "output_type": "execute_result"
    }
   ],
   "source": [
    "data.value_counts([\"male\"])"
   ]
  },
  {
   "cell_type": "code",
   "execution_count": 50,
   "metadata": {},
   "outputs": [
    {
     "data": {
      "text/plain": [
       "male       area              \n",
       "13612      FR LAKKI MARWAT       1\n",
       "18785      FR TANK               1\n",
       "22298      FR BANNU              1\n",
       "31563      FR PESHAWAR           1\n",
       "35361      FR D.I.KHAN           1\n",
       "                                ..\n",
       "10096284   LAHORE DIVISION       1\n",
       "15467645   KHYBER PAKHTUNKHWA    1\n",
       "24927046   SINDH                 1\n",
       "55958974   PUNJAB                1\n",
       "106449322  PAKISTAN *            1\n",
       "Length: 169, dtype: int64"
      ]
     },
     "execution_count": 50,
     "metadata": {},
     "output_type": "execute_result"
    }
   ],
   "source": [
    "data.groupby(\"male\").value_counts([\"area\"])"
   ]
  },
  {
   "cell_type": "code",
   "execution_count": 51,
   "metadata": {},
   "outputs": [
    {
     "name": "stdout",
     "output_type": "stream",
     "text": [
      "Requirement already satisfied: scikit-learn in c:\\users\\hp\\anaconda3\\lib\\site-packages (1.2.1)\n",
      "Requirement already satisfied: numpy>=1.17.3 in c:\\users\\hp\\anaconda3\\lib\\site-packages (from scikit-learn) (1.23.5)\n",
      "Requirement already satisfied: scipy>=1.3.2 in c:\\users\\hp\\anaconda3\\lib\\site-packages (from scikit-learn) (1.10.0)\n",
      "Requirement already satisfied: joblib>=1.1.1 in c:\\users\\hp\\anaconda3\\lib\\site-packages (from scikit-learn) (1.1.1)\n",
      "Requirement already satisfied: threadpoolctl>=2.0.0 in c:\\users\\hp\\anaconda3\\lib\\site-packages (from scikit-learn) (2.2.0)\n",
      "Note: you may need to restart the kernel to use updated packages.\n"
     ]
    }
   ],
   "source": [
    "pip install scikit-learn"
   ]
  },
  {
   "cell_type": "code",
   "execution_count": 54,
   "metadata": {},
   "outputs": [],
   "source": [
    "ds = data"
   ]
  },
  {
   "cell_type": "code",
   "execution_count": 62,
   "metadata": {},
   "outputs": [],
   "source": [
    "x = ds[['female']]\n",
    "y = ds['male']"
   ]
  },
  {
   "cell_type": "code",
   "execution_count": 56,
   "metadata": {},
   "outputs": [
    {
     "data": {
      "text/plain": [
       "0    101314780\n",
       "1     15054813\n",
       "2      2445357\n",
       "3     54046759\n",
       "4     22956478\n",
       "Name: female, dtype: int64"
      ]
     },
     "execution_count": 56,
     "metadata": {},
     "output_type": "execute_result"
    }
   ],
   "source": [
    "x.head()"
   ]
  },
  {
   "cell_type": "code",
   "execution_count": 57,
   "metadata": {},
   "outputs": [
    {
     "data": {
      "text/plain": [
       "0    106449322\n",
       "1     15467645\n",
       "2      2556292\n",
       "3     55958974\n",
       "4     24927046\n",
       "Name: male, dtype: int64"
      ]
     },
     "execution_count": 57,
     "metadata": {},
     "output_type": "execute_result"
    }
   ],
   "source": [
    "y.head()"
   ]
  },
  {
   "cell_type": "code",
   "execution_count": 58,
   "metadata": {},
   "outputs": [
    {
     "data": {
      "text/plain": [
       "1"
      ]
     },
     "execution_count": 58,
     "metadata": {},
     "output_type": "execute_result"
    }
   ],
   "source": [
    "x.ndim"
   ]
  },
  {
   "cell_type": "code",
   "execution_count": 59,
   "metadata": {},
   "outputs": [
    {
     "data": {
      "text/plain": [
       "1"
      ]
     },
     "execution_count": 59,
     "metadata": {},
     "output_type": "execute_result"
    }
   ],
   "source": [
    "y.ndim"
   ]
  },
  {
   "cell_type": "code",
   "execution_count": 64,
   "metadata": {},
   "outputs": [],
   "source": [
    "from sklearn.model_selection import train_test_split\n",
    "x_train,x_test,y_train,y_test = train_test_split(x,y, test_size=0.2, random_state=0)"
   ]
  },
  {
   "cell_type": "code",
   "execution_count": 65,
   "metadata": {},
   "outputs": [
    {
     "data": {
      "text/html": [
       "<style>#sk-container-id-1 {color: black;background-color: white;}#sk-container-id-1 pre{padding: 0;}#sk-container-id-1 div.sk-toggleable {background-color: white;}#sk-container-id-1 label.sk-toggleable__label {cursor: pointer;display: block;width: 100%;margin-bottom: 0;padding: 0.3em;box-sizing: border-box;text-align: center;}#sk-container-id-1 label.sk-toggleable__label-arrow:before {content: \"▸\";float: left;margin-right: 0.25em;color: #696969;}#sk-container-id-1 label.sk-toggleable__label-arrow:hover:before {color: black;}#sk-container-id-1 div.sk-estimator:hover label.sk-toggleable__label-arrow:before {color: black;}#sk-container-id-1 div.sk-toggleable__content {max-height: 0;max-width: 0;overflow: hidden;text-align: left;background-color: #f0f8ff;}#sk-container-id-1 div.sk-toggleable__content pre {margin: 0.2em;color: black;border-radius: 0.25em;background-color: #f0f8ff;}#sk-container-id-1 input.sk-toggleable__control:checked~div.sk-toggleable__content {max-height: 200px;max-width: 100%;overflow: auto;}#sk-container-id-1 input.sk-toggleable__control:checked~label.sk-toggleable__label-arrow:before {content: \"▾\";}#sk-container-id-1 div.sk-estimator input.sk-toggleable__control:checked~label.sk-toggleable__label {background-color: #d4ebff;}#sk-container-id-1 div.sk-label input.sk-toggleable__control:checked~label.sk-toggleable__label {background-color: #d4ebff;}#sk-container-id-1 input.sk-hidden--visually {border: 0;clip: rect(1px 1px 1px 1px);clip: rect(1px, 1px, 1px, 1px);height: 1px;margin: -1px;overflow: hidden;padding: 0;position: absolute;width: 1px;}#sk-container-id-1 div.sk-estimator {font-family: monospace;background-color: #f0f8ff;border: 1px dotted black;border-radius: 0.25em;box-sizing: border-box;margin-bottom: 0.5em;}#sk-container-id-1 div.sk-estimator:hover {background-color: #d4ebff;}#sk-container-id-1 div.sk-parallel-item::after {content: \"\";width: 100%;border-bottom: 1px solid gray;flex-grow: 1;}#sk-container-id-1 div.sk-label:hover label.sk-toggleable__label {background-color: #d4ebff;}#sk-container-id-1 div.sk-serial::before {content: \"\";position: absolute;border-left: 1px solid gray;box-sizing: border-box;top: 0;bottom: 0;left: 50%;z-index: 0;}#sk-container-id-1 div.sk-serial {display: flex;flex-direction: column;align-items: center;background-color: white;padding-right: 0.2em;padding-left: 0.2em;position: relative;}#sk-container-id-1 div.sk-item {position: relative;z-index: 1;}#sk-container-id-1 div.sk-parallel {display: flex;align-items: stretch;justify-content: center;background-color: white;position: relative;}#sk-container-id-1 div.sk-item::before, #sk-container-id-1 div.sk-parallel-item::before {content: \"\";position: absolute;border-left: 1px solid gray;box-sizing: border-box;top: 0;bottom: 0;left: 50%;z-index: -1;}#sk-container-id-1 div.sk-parallel-item {display: flex;flex-direction: column;z-index: 1;position: relative;background-color: white;}#sk-container-id-1 div.sk-parallel-item:first-child::after {align-self: flex-end;width: 50%;}#sk-container-id-1 div.sk-parallel-item:last-child::after {align-self: flex-start;width: 50%;}#sk-container-id-1 div.sk-parallel-item:only-child::after {width: 0;}#sk-container-id-1 div.sk-dashed-wrapped {border: 1px dashed gray;margin: 0 0.4em 0.5em 0.4em;box-sizing: border-box;padding-bottom: 0.4em;background-color: white;}#sk-container-id-1 div.sk-label label {font-family: monospace;font-weight: bold;display: inline-block;line-height: 1.2em;}#sk-container-id-1 div.sk-label-container {text-align: center;}#sk-container-id-1 div.sk-container {/* jupyter's `normalize.less` sets `[hidden] { display: none; }` but bootstrap.min.css set `[hidden] { display: none !important; }` so we also need the `!important` here to be able to override the default hidden behavior on the sphinx rendered scikit-learn.org. See: https://github.com/scikit-learn/scikit-learn/issues/21755 */display: inline-block !important;position: relative;}#sk-container-id-1 div.sk-text-repr-fallback {display: none;}</style><div id=\"sk-container-id-1\" class=\"sk-top-container\"><div class=\"sk-text-repr-fallback\"><pre>LinearRegression()</pre><b>In a Jupyter environment, please rerun this cell to show the HTML representation or trust the notebook. <br />On GitHub, the HTML representation is unable to render, please try loading this page with nbviewer.org.</b></div><div class=\"sk-container\" hidden><div class=\"sk-item\"><div class=\"sk-estimator sk-toggleable\"><input class=\"sk-toggleable__control sk-hidden--visually\" id=\"sk-estimator-id-1\" type=\"checkbox\" checked><label for=\"sk-estimator-id-1\" class=\"sk-toggleable__label sk-toggleable__label-arrow\">LinearRegression</label><div class=\"sk-toggleable__content\"><pre>LinearRegression()</pre></div></div></div></div></div>"
      ],
      "text/plain": [
       "LinearRegression()"
      ]
     },
     "execution_count": 65,
     "metadata": {},
     "output_type": "execute_result"
    }
   ],
   "source": [
    "from sklearn.linear_model import LinearRegression\n",
    "model = LinearRegression().fit(x_train,y_train)\n",
    "model"
   ]
  },
  {
   "cell_type": "code",
   "execution_count": 73,
   "metadata": {},
   "outputs": [
    {
     "data": {
      "text/plain": [
       "<matplotlib.collections.PathCollection at 0x1f9039c6530>"
      ]
     },
     "execution_count": 73,
     "metadata": {},
     "output_type": "execute_result"
    },
    {
     "data": {
      "image/png": "[encoded data removed]",
      "text/plain": [
       "<Figure size 640x480 with 1 Axes>"
      ]
     },
     "metadata": {},
     "output_type": "display_data"
    }
   ],
   "source": [
    "import matplotlib.pyplot as plt\n",
    "plt.scatter(x_train,y_train)"
   ]
  },
  {
   "cell_type": "code",
   "execution_count": 74,
   "metadata": {},
   "outputs": [
    {
     "data": {
      "text/plain": [
       "<function matplotlib.pyplot.show(close=None, block=None)>"
      ]
     },
     "execution_count": 74,
     "metadata": {},
     "output_type": "execute_result"
    },
    {
     "data": {
      "image/png": "[encoded data removed]",
      "text/plain": [
       "<Figure size 640x480 with 1 Axes>"
      ]
     },
     "metadata": {},
     "output_type": "display_data"
    }
   ],
   "source": [
    "plt.scatter(x_train, y_train)\n",
    "plt.plot(x_train, model.predict(x_train), color = \"blue\")\n",
    "plt.xlabel(\"Female\")\n",
    "plt.ylabel(\"Male\")\n",
    "plt.title(\"Practice Plot\")\n",
    "plt.show"
   ]
  },
  {
   "cell_type": "code",
   "execution_count": 75,
   "metadata": {},
   "outputs": [
    {
     "data": {
      "text/plain": [
       "<function matplotlib.pyplot.show(close=None, block=None)>"
      ]
     },
     "execution_count": 75,
     "metadata": {},
     "output_type": "execute_result"
    },
    {
     "data": {
      "image/png": "[encoded data removed]",
      "text/plain": [
       "<Figure size 640x480 with 1 Axes>"
      ]
     },
     "metadata": {},
     "output_type": "display_data"
    }
   ],
   "source": [
    "plt.scatter(x_test, y_test)\n",
    "plt.plot(x_test, model.predict(x_test), color= \"red\")\n",
    "plt.xlabel('Female')\n",
    "plt.ylabel('Male')\n",
    "plt.title('Practice Plot')\n",
    "plt.show"
   ]
  },
  {
   "cell_type": "code",
   "execution_count": 78,
   "metadata": {},
   "outputs": [
    {
     "name": "stdout",
     "output_type": "stream",
     "text": [
      "Score for train data =  0.9998457571254645\n",
      "Score for test data =  0.9982815203834793\n"
     ]
    }
   ],
   "source": [
    "print('Score for train data = ', model.score(x_train,y_train))\n",
    "print('Score for test data = ', model.score(x_test,y_test))"
   ]
  },
  {
   "cell_type": "code",
   "execution_count": null,
   "metadata": {},
   "outputs": [],
   "source": []
  }
 ],
 "metadata": {
  "kernelspec": {
   "display_name": "Python 3",
   "language": "python",
   "name": "python3"
  },
  "language_info": {
   "codemirror_mode": {
    "name": "ipython",
    "version": 3
   },
   "file_extension": ".py",
   "mimetype": "text/x-python",
   "name": "python",
   "nbconvert_exporter": "python",
   "pygments_lexer": "ipython3",
   "version": "3.10.9"
  },
  "orig_nbformat": 4
 },
 "nbformat": 4,
 "nbformat_minor": 2
}
