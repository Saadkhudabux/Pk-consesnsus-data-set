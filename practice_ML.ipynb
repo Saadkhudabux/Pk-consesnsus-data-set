{
 "cells": [
  {
   "cell_type": "code",
   "execution_count": 1,
   "metadata": {},
   "outputs": [
    {
     "data": {
      "text/html": [
       "<div>\n",
       "<style scoped>\n",
       "    .dataframe tbody tr th:only-of-type {\n",
       "        vertical-align: middle;\n",
       "    }\n",
       "\n",
       "    .dataframe tbody tr th {\n",
       "        vertical-align: top;\n",
       "    }\n",
       "\n",
       "    .dataframe thead th {\n",
       "        text-align: right;\n",
       "    }\n",
       "</style>\n",
       "<table border=\"1\" class=\"dataframe\">\n",
       "  <thead>\n",
       "    <tr style=\"text-align: right;\">\n",
       "      <th></th>\n",
       "      <th>Unnamed: 0</th>\n",
       "      <th>area</th>\n",
       "      <th>households</th>\n",
       "      <th>male</th>\n",
       "      <th>female</th>\n",
       "      <th>transgender</th>\n",
       "      <th>all genders</th>\n",
       "      <th>population 1998</th>\n",
       "      <th>sex ratio</th>\n",
       "      <th>average annual growth rate</th>\n",
       "    </tr>\n",
       "  </thead>\n",
       "  <tbody>\n",
       "    <tr>\n",
       "      <th>0</th>\n",
       "      <td>0</td>\n",
       "      <td>PAKISTAN *</td>\n",
       "      <td>32205111</td>\n",
       "      <td>106449322</td>\n",
       "      <td>101314780</td>\n",
       "      <td>10418</td>\n",
       "      <td>207774520</td>\n",
       "      <td>132352279</td>\n",
       "      <td>105.07</td>\n",
       "      <td>2.40</td>\n",
       "    </tr>\n",
       "    <tr>\n",
       "      <th>1</th>\n",
       "      <td>1</td>\n",
       "      <td>KHYBER PAKHTUNKHWA</td>\n",
       "      <td>3845168</td>\n",
       "      <td>15467645</td>\n",
       "      <td>15054813</td>\n",
       "      <td>913</td>\n",
       "      <td>30523371</td>\n",
       "      <td>17743645</td>\n",
       "      <td>102.74</td>\n",
       "      <td>2.89</td>\n",
       "    </tr>\n",
       "    <tr>\n",
       "      <th>2</th>\n",
       "      <td>2</td>\n",
       "      <td>FATA</td>\n",
       "      <td>558379</td>\n",
       "      <td>2556292</td>\n",
       "      <td>2445357</td>\n",
       "      <td>27</td>\n",
       "      <td>5001676</td>\n",
       "      <td>3176331</td>\n",
       "      <td>104.54</td>\n",
       "      <td>2.41</td>\n",
       "    </tr>\n",
       "    <tr>\n",
       "      <th>3</th>\n",
       "      <td>3</td>\n",
       "      <td>PUNJAB</td>\n",
       "      <td>17103835</td>\n",
       "      <td>55958974</td>\n",
       "      <td>54046759</td>\n",
       "      <td>6709</td>\n",
       "      <td>110012442</td>\n",
       "      <td>73621290</td>\n",
       "      <td>103.54</td>\n",
       "      <td>2.13</td>\n",
       "    </tr>\n",
       "    <tr>\n",
       "      <th>4</th>\n",
       "      <td>4</td>\n",
       "      <td>SINDH</td>\n",
       "      <td>8585610</td>\n",
       "      <td>24927046</td>\n",
       "      <td>22956478</td>\n",
       "      <td>2527</td>\n",
       "      <td>47886051</td>\n",
       "      <td>30439893</td>\n",
       "      <td>108.58</td>\n",
       "      <td>2.41</td>\n",
       "    </tr>\n",
       "    <tr>\n",
       "      <th>...</th>\n",
       "      <td>...</td>\n",
       "      <td>...</td>\n",
       "      <td>...</td>\n",
       "      <td>...</td>\n",
       "      <td>...</td>\n",
       "      <td>...</td>\n",
       "      <td>...</td>\n",
       "      <td>...</td>\n",
       "      <td>...</td>\n",
       "      <td>...</td>\n",
       "    </tr>\n",
       "    <tr>\n",
       "      <th>164</th>\n",
       "      <td>164</td>\n",
       "      <td>KILLA SAIFULLAH DISTRICT</td>\n",
       "      <td>53478</td>\n",
       "      <td>181870</td>\n",
       "      <td>160944</td>\n",
       "      <td>0</td>\n",
       "      <td>342814</td>\n",
       "      <td>193553</td>\n",
       "      <td>113.00</td>\n",
       "      <td>3.05</td>\n",
       "    </tr>\n",
       "    <tr>\n",
       "      <th>165</th>\n",
       "      <td>165</td>\n",
       "      <td>LORALAI DISTRICT</td>\n",
       "      <td>55876</td>\n",
       "      <td>212451</td>\n",
       "      <td>184948</td>\n",
       "      <td>1</td>\n",
       "      <td>397400</td>\n",
       "      <td>250147</td>\n",
       "      <td>114.87</td>\n",
       "      <td>2.46</td>\n",
       "    </tr>\n",
       "    <tr>\n",
       "      <th>166</th>\n",
       "      <td>166</td>\n",
       "      <td>MUSAKHEL DISTRICT</td>\n",
       "      <td>24826</td>\n",
       "      <td>90240</td>\n",
       "      <td>76777</td>\n",
       "      <td>0</td>\n",
       "      <td>167017</td>\n",
       "      <td>134056</td>\n",
       "      <td>117.54</td>\n",
       "      <td>1.16</td>\n",
       "    </tr>\n",
       "    <tr>\n",
       "      <th>167</th>\n",
       "      <td>167</td>\n",
       "      <td>SHERANI DISTRICT</td>\n",
       "      <td>21213</td>\n",
       "      <td>84994</td>\n",
       "      <td>68115</td>\n",
       "      <td>7</td>\n",
       "      <td>153116</td>\n",
       "      <td>81684</td>\n",
       "      <td>124.78</td>\n",
       "      <td>3.35</td>\n",
       "    </tr>\n",
       "    <tr>\n",
       "      <th>168</th>\n",
       "      <td>168</td>\n",
       "      <td>ZHOB DISTRICT</td>\n",
       "      <td>45962</td>\n",
       "      <td>168358</td>\n",
       "      <td>142186</td>\n",
       "      <td>0</td>\n",
       "      <td>310544</td>\n",
       "      <td>193458</td>\n",
       "      <td>118.41</td>\n",
       "      <td>2.52</td>\n",
       "    </tr>\n",
       "  </tbody>\n",
       "</table>\n",
       "<p>169 rows × 10 columns</p>\n",
       "</div>"
      ],
      "text/plain": [
       "     Unnamed: 0                      area  households       male     female  \\\n",
       "0             0                PAKISTAN *    32205111  106449322  101314780   \n",
       "1             1        KHYBER PAKHTUNKHWA     3845168   15467645   15054813   \n",
       "2             2                      FATA      558379    2556292    2445357   \n",
       "3             3                    PUNJAB    17103835   55958974   54046759   \n",
       "4             4                     SINDH     8585610   24927046   22956478   \n",
       "..          ...                       ...         ...        ...        ...   \n",
       "164         164  KILLA SAIFULLAH DISTRICT       53478     181870     160944   \n",
       "165         165          LORALAI DISTRICT       55876     212451     184948   \n",
       "166         166         MUSAKHEL DISTRICT       24826      90240      76777   \n",
       "167         167          SHERANI DISTRICT       21213      84994      68115   \n",
       "168         168             ZHOB DISTRICT       45962     168358     142186   \n",
       "\n",
       "     transgender  all genders  population 1998  sex ratio  \\\n",
       "0          10418    207774520        132352279     105.07   \n",
       "1            913     30523371         17743645     102.74   \n",
       "2             27      5001676          3176331     104.54   \n",
       "3           6709    110012442         73621290     103.54   \n",
       "4           2527     47886051         30439893     108.58   \n",
       "..           ...          ...              ...        ...   \n",
       "164            0       342814           193553     113.00   \n",
       "165            1       397400           250147     114.87   \n",
       "166            0       167017           134056     117.54   \n",
       "167            7       153116            81684     124.78   \n",
       "168            0       310544           193458     118.41   \n",
       "\n",
       "     average annual growth rate  \n",
       "0                          2.40  \n",
       "1                          2.89  \n",
       "2                          2.41  \n",
       "3                          2.13  \n",
       "4                          2.41  \n",
       "..                          ...  \n",
       "164                        3.05  \n",
       "165                        2.46  \n",
       "166                        1.16  \n",
       "167                        3.35  \n",
       "168                        2.52  \n",
       "\n",
       "[169 rows x 10 columns]"
      ]
     },
     "execution_count": 1,
     "metadata": {},
     "output_type": "execute_result"
    }
   ],
   "source": [
    "import pandas as pd\n",
    "ds = pd.read_csv('pk_data.csv')\n",
    "ds"
   ]
  },
  {
   "cell_type": "code",
   "execution_count": 2,
   "metadata": {},
   "outputs": [
    {
     "data": {
      "text/html": [
       "<div>\n",
       "<style scoped>\n",
       "    .dataframe tbody tr th:only-of-type {\n",
       "        vertical-align: middle;\n",
       "    }\n",
       "\n",
       "    .dataframe tbody tr th {\n",
       "        vertical-align: top;\n",
       "    }\n",
       "\n",
       "    .dataframe thead th {\n",
       "        text-align: right;\n",
       "    }\n",
       "</style>\n",
       "<table border=\"1\" class=\"dataframe\">\n",
       "  <thead>\n",
       "    <tr style=\"text-align: right;\">\n",
       "      <th></th>\n",
       "      <th>Unnamed: 0</th>\n",
       "      <th>area</th>\n",
       "      <th>households</th>\n",
       "      <th>male</th>\n",
       "      <th>female</th>\n",
       "      <th>transgender</th>\n",
       "      <th>all genders</th>\n",
       "      <th>population 1998</th>\n",
       "      <th>sex ratio</th>\n",
       "      <th>average annual growth rate</th>\n",
       "    </tr>\n",
       "  </thead>\n",
       "  <tbody>\n",
       "    <tr>\n",
       "      <th>0</th>\n",
       "      <td>0</td>\n",
       "      <td>PAKISTAN *</td>\n",
       "      <td>32205111</td>\n",
       "      <td>106449322</td>\n",
       "      <td>101314780</td>\n",
       "      <td>10418</td>\n",
       "      <td>207774520</td>\n",
       "      <td>132352279</td>\n",
       "      <td>105.07</td>\n",
       "      <td>2.40</td>\n",
       "    </tr>\n",
       "    <tr>\n",
       "      <th>1</th>\n",
       "      <td>1</td>\n",
       "      <td>KHYBER PAKHTUNKHWA</td>\n",
       "      <td>3845168</td>\n",
       "      <td>15467645</td>\n",
       "      <td>15054813</td>\n",
       "      <td>913</td>\n",
       "      <td>30523371</td>\n",
       "      <td>17743645</td>\n",
       "      <td>102.74</td>\n",
       "      <td>2.89</td>\n",
       "    </tr>\n",
       "    <tr>\n",
       "      <th>2</th>\n",
       "      <td>2</td>\n",
       "      <td>FATA</td>\n",
       "      <td>558379</td>\n",
       "      <td>2556292</td>\n",
       "      <td>2445357</td>\n",
       "      <td>27</td>\n",
       "      <td>5001676</td>\n",
       "      <td>3176331</td>\n",
       "      <td>104.54</td>\n",
       "      <td>2.41</td>\n",
       "    </tr>\n",
       "    <tr>\n",
       "      <th>3</th>\n",
       "      <td>3</td>\n",
       "      <td>PUNJAB</td>\n",
       "      <td>17103835</td>\n",
       "      <td>55958974</td>\n",
       "      <td>54046759</td>\n",
       "      <td>6709</td>\n",
       "      <td>110012442</td>\n",
       "      <td>73621290</td>\n",
       "      <td>103.54</td>\n",
       "      <td>2.13</td>\n",
       "    </tr>\n",
       "    <tr>\n",
       "      <th>4</th>\n",
       "      <td>4</td>\n",
       "      <td>SINDH</td>\n",
       "      <td>8585610</td>\n",
       "      <td>24927046</td>\n",
       "      <td>22956478</td>\n",
       "      <td>2527</td>\n",
       "      <td>47886051</td>\n",
       "      <td>30439893</td>\n",
       "      <td>108.58</td>\n",
       "      <td>2.41</td>\n",
       "    </tr>\n",
       "  </tbody>\n",
       "</table>\n",
       "</div>"
      ],
      "text/plain": [
       "   Unnamed: 0                area  households       male     female  \\\n",
       "0           0          PAKISTAN *    32205111  106449322  101314780   \n",
       "1           1  KHYBER PAKHTUNKHWA     3845168   15467645   15054813   \n",
       "2           2                FATA      558379    2556292    2445357   \n",
       "3           3              PUNJAB    17103835   55958974   54046759   \n",
       "4           4               SINDH     8585610   24927046   22956478   \n",
       "\n",
       "   transgender  all genders  population 1998  sex ratio  \\\n",
       "0        10418    207774520        132352279     105.07   \n",
       "1          913     30523371         17743645     102.74   \n",
       "2           27      5001676          3176331     104.54   \n",
       "3         6709    110012442         73621290     103.54   \n",
       "4         2527     47886051         30439893     108.58   \n",
       "\n",
       "   average annual growth rate  \n",
       "0                        2.40  \n",
       "1                        2.89  \n",
       "2                        2.41  \n",
       "3                        2.13  \n",
       "4                        2.41  "
      ]
     },
     "execution_count": 2,
     "metadata": {},
     "output_type": "execute_result"
    }
   ],
   "source": [
    "ds.head()"
   ]
  },
  {
   "cell_type": "code",
   "execution_count": 6,
   "metadata": {},
   "outputs": [],
   "source": [
    "x = ds[['population 1998']]\n",
    "y = ds['average annual growth rate']\n"
   ]
  },
  {
   "cell_type": "code",
   "execution_count": 8,
   "metadata": {},
   "outputs": [],
   "source": [
    "from sklearn.model_selection import train_test_split\n",
    "x_train,x_test,y_train,y_test = train_test_split(x,y, test_size=0.2, random_state=0)"
   ]
  },
  {
   "cell_type": "code",
   "execution_count": 9,
   "metadata": {},
   "outputs": [
    {
     "data": {
      "text/html": [
       "<style>#sk-container-id-1 {color: black;background-color: white;}#sk-container-id-1 pre{padding: 0;}#sk-container-id-1 div.sk-toggleable {background-color: white;}#sk-container-id-1 label.sk-toggleable__label {cursor: pointer;display: block;width: 100%;margin-bottom: 0;padding: 0.3em;box-sizing: border-box;text-align: center;}#sk-container-id-1 label.sk-toggleable__label-arrow:before {content: \"▸\";float: left;margin-right: 0.25em;color: #696969;}#sk-container-id-1 label.sk-toggleable__label-arrow:hover:before {color: black;}#sk-container-id-1 div.sk-estimator:hover label.sk-toggleable__label-arrow:before {color: black;}#sk-container-id-1 div.sk-toggleable__content {max-height: 0;max-width: 0;overflow: hidden;text-align: left;background-color: #f0f8ff;}#sk-container-id-1 div.sk-toggleable__content pre {margin: 0.2em;color: black;border-radius: 0.25em;background-color: #f0f8ff;}#sk-container-id-1 input.sk-toggleable__control:checked~div.sk-toggleable__content {max-height: 200px;max-width: 100%;overflow: auto;}#sk-container-id-1 input.sk-toggleable__control:checked~label.sk-toggleable__label-arrow:before {content: \"▾\";}#sk-container-id-1 div.sk-estimator input.sk-toggleable__control:checked~label.sk-toggleable__label {background-color: #d4ebff;}#sk-container-id-1 div.sk-label input.sk-toggleable__control:checked~label.sk-toggleable__label {background-color: #d4ebff;}#sk-container-id-1 input.sk-hidden--visually {border: 0;clip: rect(1px 1px 1px 1px);clip: rect(1px, 1px, 1px, 1px);height: 1px;margin: -1px;overflow: hidden;padding: 0;position: absolute;width: 1px;}#sk-container-id-1 div.sk-estimator {font-family: monospace;background-color: #f0f8ff;border: 1px dotted black;border-radius: 0.25em;box-sizing: border-box;margin-bottom: 0.5em;}#sk-container-id-1 div.sk-estimator:hover {background-color: #d4ebff;}#sk-container-id-1 div.sk-parallel-item::after {content: \"\";width: 100%;border-bottom: 1px solid gray;flex-grow: 1;}#sk-container-id-1 div.sk-label:hover label.sk-toggleable__label {background-color: #d4ebff;}#sk-container-id-1 div.sk-serial::before {content: \"\";position: absolute;border-left: 1px solid gray;box-sizing: border-box;top: 0;bottom: 0;left: 50%;z-index: 0;}#sk-container-id-1 div.sk-serial {display: flex;flex-direction: column;align-items: center;background-color: white;padding-right: 0.2em;padding-left: 0.2em;position: relative;}#sk-container-id-1 div.sk-item {position: relative;z-index: 1;}#sk-container-id-1 div.sk-parallel {display: flex;align-items: stretch;justify-content: center;background-color: white;position: relative;}#sk-container-id-1 div.sk-item::before, #sk-container-id-1 div.sk-parallel-item::before {content: \"\";position: absolute;border-left: 1px solid gray;box-sizing: border-box;top: 0;bottom: 0;left: 50%;z-index: -1;}#sk-container-id-1 div.sk-parallel-item {display: flex;flex-direction: column;z-index: 1;position: relative;background-color: white;}#sk-container-id-1 div.sk-parallel-item:first-child::after {align-self: flex-end;width: 50%;}#sk-container-id-1 div.sk-parallel-item:last-child::after {align-self: flex-start;width: 50%;}#sk-container-id-1 div.sk-parallel-item:only-child::after {width: 0;}#sk-container-id-1 div.sk-dashed-wrapped {border: 1px dashed gray;margin: 0 0.4em 0.5em 0.4em;box-sizing: border-box;padding-bottom: 0.4em;background-color: white;}#sk-container-id-1 div.sk-label label {font-family: monospace;font-weight: bold;display: inline-block;line-height: 1.2em;}#sk-container-id-1 div.sk-label-container {text-align: center;}#sk-container-id-1 div.sk-container {/* jupyter's `normalize.less` sets `[hidden] { display: none; }` but bootstrap.min.css set `[hidden] { display: none !important; }` so we also need the `!important` here to be able to override the default hidden behavior on the sphinx rendered scikit-learn.org. See: https://github.com/scikit-learn/scikit-learn/issues/21755 */display: inline-block !important;position: relative;}#sk-container-id-1 div.sk-text-repr-fallback {display: none;}</style><div id=\"sk-container-id-1\" class=\"sk-top-container\"><div class=\"sk-text-repr-fallback\"><pre>LinearRegression()</pre><b>In a Jupyter environment, please rerun this cell to show the HTML representation or trust the notebook. <br />On GitHub, the HTML representation is unable to render, please try loading this page with nbviewer.org.</b></div><div class=\"sk-container\" hidden><div class=\"sk-item\"><div class=\"sk-estimator sk-toggleable\"><input class=\"sk-toggleable__control sk-hidden--visually\" id=\"sk-estimator-id-1\" type=\"checkbox\" checked><label for=\"sk-estimator-id-1\" class=\"sk-toggleable__label sk-toggleable__label-arrow\">LinearRegression</label><div class=\"sk-toggleable__content\"><pre>LinearRegression()</pre></div></div></div></div></div>"
      ],
      "text/plain": [
       "LinearRegression()"
      ]
     },
     "execution_count": 9,
     "metadata": {},
     "output_type": "execute_result"
    }
   ],
   "source": [
    "from sklearn.linear_model import LinearRegression\n",
    "model = LinearRegression().fit(x_train,y_train)\n",
    "model"
   ]
  },
  {
   "cell_type": "code",
   "execution_count": 11,
   "metadata": {},
   "outputs": [
    {
     "data": {
      "text/plain": [
       "<matplotlib.collections.PathCollection at 0x1dd9e3e5900>"
      ]
     },
     "execution_count": 11,
     "metadata": {},
     "output_type": "execute_result"
    },
    {
     "data": {
      "image/png": "[encoded data removed]",
      "text/plain": [
       "<Figure size 640x480 with 1 Axes>"
      ]
     },
     "metadata": {},
     "output_type": "display_data"
    }
   ],
   "source": [
    "import matplotlib.pyplot as plt\n",
    "plt.scatter(x_train, y_train)"
   ]
  },
  {
   "cell_type": "code",
   "execution_count": 12,
   "metadata": {},
   "outputs": [
    {
     "data": {
      "text/plain": [
       "<function matplotlib.pyplot.show(close=None, block=None)>"
      ]
     },
     "execution_count": 12,
     "metadata": {},
     "output_type": "execute_result"
    },
    {
     "data": {
      "image/png": "[encoded data removed]",
      "text/plain": [
       "<Figure size 640x480 with 1 Axes>"
      ]
     },
     "metadata": {},
     "output_type": "display_data"
    }
   ],
   "source": [
    "plt.scatter(x_train, y_train)\n",
    "plt.plot(x_train, model.predict(x_train), color= 'pink')\n",
    "plt.xlabel(\"population 1998\")\n",
    "plt.ylabel('average annual growth rate')\n",
    "plt.title('Practice_Machine learning')\n",
    "plt.show"
   ]
  },
  {
   "cell_type": "code",
   "execution_count": 13,
   "metadata": {},
   "outputs": [
    {
     "data": {
      "text/plain": [
       "<function matplotlib.pyplot.show(close=None, block=None)>"
      ]
     },
     "execution_count": 13,
     "metadata": {},
     "output_type": "execute_result"
    },
    {
     "data": {
      "image/png": "[encoded data removed]",
      "text/plain": [
       "<Figure size 640x480 with 1 Axes>"
      ]
     },
     "metadata": {},
     "output_type": "display_data"
    }
   ],
   "source": [
    "plt.scatter(x_test, y_test)\n",
    "plt.plot(x_test, model.predict(x_test), color = 'black')\n",
    "plt.xlabel('population 1998')\n",
    "plt.ylabel('average annual growth rate')\n",
    "plt.title('Practice Machine Learning')\n",
    "plt.show"
   ]
  },
  {
   "cell_type": "code",
   "execution_count": 16,
   "metadata": {},
   "outputs": [
    {
     "name": "stdout",
     "output_type": "stream",
     "text": [
      "Score point for train Data =  0.0006191139801381418\n",
      "Score for test Data =  -0.12182749191185849\n"
     ]
    }
   ],
   "source": [
    "print('Score point for train Data = ', model.score(x_train,y_train))\n",
    "print('Score for test Data = ', model.score(x_test,y_test))"
   ]
  },
  {
   "cell_type": "code",
   "execution_count": 18,
   "metadata": {},
   "outputs": [
    {
     "name": "stderr",
     "output_type": "stream",
     "text": [
      "c:\\Users\\hp\\anaconda3\\lib\\site-packages\\sklearn\\base.py:420: UserWarning: X does not have valid feature names, but LinearRegression was fitted with feature names\n",
      "  warnings.warn(\n"
     ]
    },
    {
     "data": {
      "text/plain": [
       "array([2.45262919])"
      ]
     },
     "execution_count": 18,
     "metadata": {},
     "output_type": "execute_result"
    }
   ],
   "source": [
    "model.predict([[5]])"
   ]
  },
  {
   "cell_type": "markdown",
   "metadata": {},
   "source": []
  },
  {
   "cell_type": "code",
   "execution_count": 19,
   "metadata": {},
   "outputs": [
    {
     "data": {
      "text/plain": [
       "array([2.45246169, 2.44292391, 2.44821137, 2.4508237 , 2.4509177 ,\n",
       "       2.44124975, 2.45063732, 2.44140976, 2.44151621, 2.45191585,\n",
       "       2.45102817, 2.45062689, 2.45245859, 2.45112475, 2.43573706,\n",
       "       2.45259572, 2.44335147, 2.45138661, 2.45120623, 2.44543426,\n",
       "       2.45073886, 2.44095925, 2.45201281, 2.45248962, 2.44688112,\n",
       "       2.45198546, 2.44592478, 2.45094077, 2.45231938, 2.45188664,\n",
       "       2.45147465, 2.4507381 , 2.45096113, 2.45185635])"
      ]
     },
     "execution_count": 19,
     "metadata": {},
     "output_type": "execute_result"
    }
   ],
   "source": [
    "model.predict(x_test)"
   ]
  },
  {
   "cell_type": "code",
   "execution_count": null,
   "metadata": {},
   "outputs": [],
   "source": []
  }
 ],
 "metadata": {
  "kernelspec": {
   "display_name": "base",
   "language": "python",
   "name": "python3"
  },
  "language_info": {
   "codemirror_mode": {
    "name": "ipython",
    "version": 3
   },
   "file_extension": ".py",
   "mimetype": "text/x-python",
   "name": "python",
   "nbconvert_exporter": "python",
   "pygments_lexer": "ipython3",
   "version": "3.10.9"
  },
  "orig_nbformat": 4
 },
 "nbformat": 4,
 "nbformat_minor": 2
}
